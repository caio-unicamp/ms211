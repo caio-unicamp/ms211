{
 "cells": [
  {
   "cell_type": "markdown",
   "id": "46b83e10",
   "metadata": {},
   "source": [
    "# Sistemas Lineares, Erros e Aritmética de Pontos Flutuantes\n"
   ]
  },
  {
   "cell_type": "markdown",
   "id": "58ba75dc",
   "metadata": {},
   "source": [
    "Nesse notebook será desenvolvido o projeto que irá responder os desafios propostos na Atividade 01 de MS211 - Cálculo Numérico"
   ]
  },
  {
   "cell_type": "markdown",
   "id": "5db50e8d",
   "metadata": {},
   "source": [
    "## Instalação de Bibliotecas\n"
   ]
  },
  {
   "cell_type": "code",
   "execution_count": 1,
   "id": "aea5363e",
   "metadata": {},
   "outputs": [
    {
     "name": "stdout",
     "output_type": "stream",
     "text": [
      "Defaulting to user installation because normal site-packages is not writeable\n",
      "Requirement already satisfied: numpy in /home/caio/.local/lib/python3.10/site-packages (1.26.4)\n",
      "Note: you may need to restart the kernel to use updated packages.\n"
     ]
    }
   ],
   "source": [
    "%pip install numpy"
   ]
  },
  {
   "cell_type": "markdown",
   "id": "f1889751",
   "metadata": {},
   "source": [
    "## Importando bibliotecas"
   ]
  },
  {
   "cell_type": "code",
   "execution_count": 1,
   "id": "d4e0772e",
   "metadata": {},
   "outputs": [],
   "source": [
    "import numpy as np"
   ]
  },
  {
   "cell_type": "markdown",
   "id": "6799ee46",
   "metadata": {},
   "source": [
    "### Questão 1"
   ]
  },
  {
   "cell_type": "markdown",
   "id": "edfb6648",
   "metadata": {},
   "source": [
    "Considerando o sistema linear $Ax = b$, em que\n",
    "$$A = \\begin{bmatrix} 0.1 & 0.2 & 0.3 \\\\ 0.4 & 0.5 & 0.6 \\\\ 0.7 & 0.8 & 0.9 \\end{bmatrix}, \\quad b = \\begin{bmatrix} 0.1 \\\\ 0.3 \\\\ 0.5 \\end{bmatrix}$$"
   ]
  },
  {
   "cell_type": "code",
   "execution_count": 12,
   "id": "0163f587",
   "metadata": {},
   "outputs": [],
   "source": [
    "A = np.array([[0.1, 0.2, 0.3], \n",
    "                  [0.4, 0.5, 0.6], \n",
    "                  [0.7, 0.8, 0.9]])\n",
    "b = np.array([[0.1],[0.3],[0.5]])"
   ]
  },
  {
   "cell_type": "markdown",
   "id": "89bdf4b9",
   "metadata": {},
   "source": [
    "Uma matriz é dita singular quando ela não possui inversa, isso também pode ser interpretado como o determinante dessa matriz sendo igual a 0. <br>\n",
    "Abaixo, vemos que o determinante é muito próximo de 0."
   ]
  },
  {
   "cell_type": "code",
   "execution_count": 22,
   "id": "bf7b9341",
   "metadata": {},
   "outputs": [
    {
     "data": {
      "text/plain": [
       "6.661338147750926e-18"
      ]
     },
     "execution_count": 22,
     "metadata": {},
     "output_type": "execute_result"
    }
   ],
   "source": [
    "det_A = np.linalg.det(A)\n",
    "det_A"
   ]
  },
  {
   "cell_type": "markdown",
   "id": "a58c1b84",
   "metadata": {},
   "source": [
    "#### Item A)"
   ]
  },
  {
   "cell_type": "markdown",
   "id": "955d0d1a",
   "metadata": {},
   "source": [
    "Como o cálculo do determinante de uma matriz envolve produtos de pivôs, primeiro vamos alterar essa matriz para que não aconteçam erros devido a pontos flutuantes.<br>\n",
    "Sabe-se que se uma matriz B puder ser escrita como B = $k^n$*A, com k sendo escalar, n sendo a dimensão da matriz e A uma matriz de mesma dimensão que B, então o determinante da matriz B será\n",
    "\n",
    "$$ det(B) = k^n*det(A) $$\n",
    "\n",
    "Vamos dizer que a matriz B auxiliar será B = 10*A\n"
   ]
  },
  {
   "cell_type": "code",
   "execution_count": 14,
   "id": "817b2057",
   "metadata": {},
   "outputs": [
    {
     "data": {
      "text/plain": [
       "array([[1., 2., 3.],\n",
       "       [4., 5., 6.],\n",
       "       [7., 8., 9.]])"
      ]
     },
     "execution_count": 14,
     "metadata": {},
     "output_type": "execute_result"
    }
   ],
   "source": [
    "B = 10*A\n",
    "B"
   ]
  },
  {
   "cell_type": "markdown",
   "id": "8ec0c573",
   "metadata": {},
   "source": [
    "Daí então, calcula-se o determinante da matriz B"
   ]
  },
  {
   "cell_type": "code",
   "execution_count": 15,
   "id": "8aa53aef",
   "metadata": {},
   "outputs": [
    {
     "data": {
      "text/plain": [
       "0.0"
      ]
     },
     "execution_count": 15,
     "metadata": {},
     "output_type": "execute_result"
    }
   ],
   "source": [
    "det_B = np.linalg.det(B)\n",
    "det_B"
   ]
  },
  {
   "cell_type": "markdown",
   "id": "213f1eee",
   "metadata": {},
   "source": [
    "Ou seja, det(B) = 0 = $10^3$*det(A), logo det(A) = 0. <br>\n",
    "Como a matriz A é singular, o sistema pode ser inconsistente, ou consistente com infinitas soluções. O conjunto solução é do tipo \n",
    "$$ x = x_p + t v, \\quad t \\in \\mathbb{R} $$"
   ]
  },
  {
   "cell_type": "code",
   "execution_count": null,
   "id": "d2da8d65",
   "metadata": {},
   "outputs": [
    {
     "data": {
      "text/plain": [
       "array([[ 0.1672619 ],\n",
       "       [ 0.66547619],\n",
       "       [-0.16607143]])"
      ]
     },
     "execution_count": 26,
     "metadata": {},
     "output_type": "execute_result"
    }
   ],
   "source": [
    "sol_particular, _, rank, _ = np.linalg.lstsq(A, b, rcond=None)\n"
   ]
  }
 ],
 "metadata": {
  "kernelspec": {
   "display_name": "Python 3",
   "language": "python",
   "name": "python3"
  },
  "language_info": {
   "codemirror_mode": {
    "name": "ipython",
    "version": 3
   },
   "file_extension": ".py",
   "mimetype": "text/x-python",
   "name": "python",
   "nbconvert_exporter": "python",
   "pygments_lexer": "ipython3",
   "version": "3.10.12"
  }
 },
 "nbformat": 4,
 "nbformat_minor": 5
}
