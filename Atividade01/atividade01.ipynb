{
 "cells": [
  {
   "cell_type": "markdown",
   "id": "46b83e10",
   "metadata": {},
   "source": [
    "# Sistemas Lineares, Erros e Aritmética de Pontos Flutuantes\n"
   ]
  },
  {
   "cell_type": "markdown",
   "id": "58ba75dc",
   "metadata": {},
   "source": [
    "Nesse notebook será desenvolvido o projeto que irá responder os desafios propostos na Atividade 01 de MS211 - Cálculo Numérico"
   ]
  },
  {
   "cell_type": "markdown",
   "id": "5db50e8d",
   "metadata": {},
   "source": [
    "## Instalação de Bibliotecas\n"
   ]
  },
  {
   "cell_type": "code",
   "execution_count": 1,
   "id": "aea5363e",
   "metadata": {},
   "outputs": [
    {
     "name": "stdout",
     "output_type": "stream",
     "text": [
      "Defaulting to user installation because normal site-packages is not writeable\n",
      "Requirement already satisfied: numpy in /home/caio/.local/lib/python3.10/site-packages (1.26.4)\n",
      "Note: you may need to restart the kernel to use updated packages.\n",
      "Defaulting to user installation because normal site-packages is not writeable\n",
      "Requirement already satisfied: scipy in /home/caio/.local/lib/python3.10/site-packages (1.13.1)\n",
      "Requirement already satisfied: numpy<2.3,>=1.22.4 in /home/caio/.local/lib/python3.10/site-packages (from scipy) (1.26.4)\n",
      "Note: you may need to restart the kernel to use updated packages.\n",
      "Defaulting to user installation because normal site-packages is not writeable\n",
      "Requirement already satisfied: matplotlib in /home/caio/.local/lib/python3.10/site-packages (3.10.3)\n",
      "Requirement already satisfied: contourpy>=1.0.1 in /home/caio/.local/lib/python3.10/site-packages (from matplotlib) (1.2.1)\n",
      "Requirement already satisfied: cycler>=0.10 in /home/caio/.local/lib/python3.10/site-packages (from matplotlib) (0.12.1)\n",
      "Requirement already satisfied: fonttools>=4.22.0 in /home/caio/.local/lib/python3.10/site-packages (from matplotlib) (4.53.0)\n",
      "Requirement already satisfied: kiwisolver>=1.3.1 in /home/caio/.local/lib/python3.10/site-packages (from matplotlib) (1.4.5)\n",
      "Requirement already satisfied: numpy>=1.23 in /home/caio/.local/lib/python3.10/site-packages (from matplotlib) (1.26.4)\n",
      "Requirement already satisfied: packaging>=20.0 in /home/caio/.local/lib/python3.10/site-packages (from matplotlib) (23.2)\n",
      "Requirement already satisfied: pillow>=8 in /home/caio/.local/lib/python3.10/site-packages (from matplotlib) (10.3.0)\n",
      "Requirement already satisfied: pyparsing>=2.3.1 in /usr/lib/python3/dist-packages (from matplotlib) (2.4.7)\n",
      "Requirement already satisfied: python-dateutil>=2.7 in /home/caio/.local/lib/python3.10/site-packages (from matplotlib) (2.9.0.post0)\n",
      "Requirement already satisfied: six>=1.5 in /usr/lib/python3/dist-packages (from python-dateutil>=2.7->matplotlib) (1.16.0)\n",
      "Note: you may need to restart the kernel to use updated packages.\n"
     ]
    }
   ],
   "source": [
    "%pip install numpy\n",
    "%pip install scipy\n",
    "%pip install matplotlib"
   ]
  },
  {
   "cell_type": "markdown",
   "id": "f1889751",
   "metadata": {},
   "source": [
    "## Importando bibliotecas"
   ]
  },
  {
   "cell_type": "code",
   "execution_count": 2,
   "id": "d4e0772e",
   "metadata": {},
   "outputs": [],
   "source": [
    "import numpy as np\n",
    "import scipy\n",
    "import scipy.sparse as sp\n",
    "import scipy.sparse.linalg as spla\n",
    "import matplotlib.pyplot as plt"
   ]
  },
  {
   "cell_type": "markdown",
   "id": "6799ee46",
   "metadata": {},
   "source": [
    "### Questão 1"
   ]
  },
  {
   "cell_type": "markdown",
   "id": "edfb6648",
   "metadata": {},
   "source": [
    "Considerando o sistema linear $Ax = b$, em que\n",
    "$$A = \\begin{bmatrix} 0.1 & 0.2 & 0.3 \\\\ 0.4 & 0.5 & 0.6 \\\\ 0.7 & 0.8 & 0.9 \\end{bmatrix}, \\quad b = \\begin{bmatrix} 0.1 \\\\ 0.3 \\\\ 0.5 \\end{bmatrix}$$"
   ]
  },
  {
   "cell_type": "code",
   "execution_count": 3,
   "id": "0163f587",
   "metadata": {},
   "outputs": [],
   "source": [
    "A = np.array([[0.1, 0.2, 0.3], \n",
    "              [0.4, 0.5, 0.6], \n",
    "              [0.7, 0.8, 0.9]])\n",
    "b = np.array([[0.1],[0.3],[0.5]])"
   ]
  },
  {
   "cell_type": "markdown",
   "id": "89bdf4b9",
   "metadata": {},
   "source": [
    "Uma matriz é dita singular quando ela não possui inversa, isso também pode ser interpretado como o determinante dessa matriz sendo igual a 0. <br>\n",
    "Abaixo, vemos que o determinante é muito próximo de 0."
   ]
  },
  {
   "cell_type": "code",
   "execution_count": 4,
   "id": "bf7b9341",
   "metadata": {},
   "outputs": [
    {
     "data": {
      "text/plain": [
       "6.661338147750926e-18"
      ]
     },
     "execution_count": 4,
     "metadata": {},
     "output_type": "execute_result"
    }
   ],
   "source": [
    "det_A = np.linalg.det(A)\n",
    "det_A"
   ]
  },
  {
   "cell_type": "markdown",
   "id": "a58c1b84",
   "metadata": {},
   "source": [
    "#### Item A)"
   ]
  },
  {
   "cell_type": "markdown",
   "id": "955d0d1a",
   "metadata": {},
   "source": [
    "Como o cálculo do determinante de uma matriz envolve produtos de pivôs, primeiro vamos alterar essa matriz para que não aconteçam erros devido a pontos flutuantes.<br>\n",
    "Sabe-se que se uma matriz B puder ser escrita como B = $k^n$*A, com k sendo escalar, n sendo a dimensão da matriz e A uma matriz de mesma dimensão que B, então o determinante da matriz B será\n",
    "\n",
    "$$ det(B) = k^n*det(A) $$\n",
    "\n",
    "Vamos dizer que a matriz B auxiliar será B = 10*A\n"
   ]
  },
  {
   "cell_type": "code",
   "execution_count": 5,
   "id": "817b2057",
   "metadata": {},
   "outputs": [
    {
     "data": {
      "text/plain": [
       "array([[1., 2., 3.],\n",
       "       [4., 5., 6.],\n",
       "       [7., 8., 9.]])"
      ]
     },
     "execution_count": 5,
     "metadata": {},
     "output_type": "execute_result"
    }
   ],
   "source": [
    "B = 10*A\n",
    "B"
   ]
  },
  {
   "cell_type": "markdown",
   "id": "8ec0c573",
   "metadata": {},
   "source": [
    "Daí então, calcula-se o determinante da matriz B"
   ]
  },
  {
   "cell_type": "code",
   "execution_count": 6,
   "id": "8aa53aef",
   "metadata": {},
   "outputs": [
    {
     "data": {
      "text/plain": [
       "0.0"
      ]
     },
     "execution_count": 6,
     "metadata": {},
     "output_type": "execute_result"
    }
   ],
   "source": [
    "det_B = np.linalg.det(B)\n",
    "det_B"
   ]
  },
  {
   "cell_type": "markdown",
   "id": "213f1eee",
   "metadata": {},
   "source": [
    "Ou seja, det(B) = 0 = $10^3$*det(A), logo det(A) = 0. <br>\n",
    "Como a matriz A é singular, o sistema pode ser inconsistente, ou consistente com infinitas soluções. Para analisar isso, vemos o posto das duas matrizes."
   ]
  },
  {
   "cell_type": "code",
   "execution_count": 7,
   "id": "cc2cd60d",
   "metadata": {},
   "outputs": [
    {
     "name": "stdout",
     "output_type": "stream",
     "text": [
      "Sistema Consistente\n"
     ]
    }
   ],
   "source": [
    "rank_A = np.linalg.matrix_rank(A)\n",
    "Ab = np.hstack((A, b.reshape(-1, 1)))\n",
    "rank_Ab = np.linalg.matrix_rank(Ab)\n",
    "if rank_Ab == rank_A:\n",
    "    print(\"Sistema Consistente\")\n",
    "else:\n",
    "    print(\"Sistema Inconsistente\")"
   ]
  },
  {
   "cell_type": "markdown",
   "id": "e40cce58",
   "metadata": {},
   "source": [
    "Como o posto de A é igual ao posto da matriz aumentada $A | b$, então o sistema é consistente, logo possui infinitas soluções.<br>\n",
    "O conjunto solução é do tipo \n",
    "$$ x = x_p + t v, \\quad t \\in \\mathbb{R} $$"
   ]
  },
  {
   "cell_type": "code",
   "execution_count": 8,
   "id": "d2da8d65",
   "metadata": {},
   "outputs": [
    {
     "data": {
      "text/plain": [
       "(array([[0.03888889],\n",
       "        [0.02222222],\n",
       "        [0.00555556]]),\n",
       " array([[-0.40824829],\n",
       "        [ 0.81649658],\n",
       "        [-0.40824829]]))"
      ]
     },
     "execution_count": 8,
     "metadata": {},
     "output_type": "execute_result"
    }
   ],
   "source": [
    "sol_particular, _, _, _ = np.linalg.lstsq(B, b, rcond=None)\n",
    "nucleo = scipy.linalg.null_space(B)\n",
    "sol_particular, nucleo"
   ]
  },
  {
   "cell_type": "markdown",
   "id": "8c96ca69",
   "metadata": {},
   "source": [
    "Nesse caso \"sol_particular\" é o $xp$ e \"nucleo\" é a base ortonormal $v$ para o espaço A"
   ]
  },
  {
   "cell_type": "markdown",
   "id": "a174a811",
   "metadata": {},
   "source": [
    "#### Item B)\n"
   ]
  },
  {
   "cell_type": "markdown",
   "id": "ae615ea5",
   "metadata": {},
   "source": [
    "Com aritmética exata, o método falha quando o último pivô é 0.<br>\n",
    "Vamos verificar os pivôs da decomposição LU"
   ]
  },
  {
   "cell_type": "code",
   "execution_count": 9,
   "id": "a7cb01a6",
   "metadata": {},
   "outputs": [
    {
     "data": {
      "text/plain": [
       "array([7.00000000e-01, 8.57142857e-02, 1.11022302e-16])"
      ]
     },
     "execution_count": 9,
     "metadata": {},
     "output_type": "execute_result"
    }
   ],
   "source": [
    "P, L, U = scipy.linalg.lu(A)\n",
    "np.diag(U)"
   ]
  },
  {
   "cell_type": "markdown",
   "id": "0a9a4d53",
   "metadata": {},
   "source": [
    "Fazendo eliminação direta em aritmética exata sobre a matriz inteira 𝐵 (proporcional a 𝐴): <br>\n",
    "Pivot $𝑎_{11} = 1$. Eliminar abaixo:<br>\n",
    "$𝑅_2 ← 𝑅_2 − 4*𝑅_1 ⇒ [0, −3, −6]$<br>\n",
    "$𝑅_3 ← 𝑅_3 − 7*𝑅_1 ⇒ [0, −6, −12]$<br>\n",
    "Pivot na segunda etapa é −3 (não zero). Eliminar abaixo:<br>\n",
    "$𝑅_3 ← 𝑅_3 −2*𝑅_2 ⇒ [0, 0, 0]$\n",
    "\n",
    "Agora restou uma linha zero; ao tentar usar essa linha como terceiro pivot, ele seria 0 — não há pivô e o processo não consegue obter uma matriz triangular com pivôs não-nulos para voltar a uma solução única. Portanto não é possível avançar na eliminação ao tentar obter o terceiro pivô (o sistema é singular), o que indica número infinito de soluções (ou inconsistência, se a linha zero viesse acompanhada de termo independente não-zero).<br>\n",
    "\n",
    "Com pivoteamento parcial não se evita essa situação porque as linhas são proporcionais de modo que o terceiro pivô será zero: não há um elemento não nulo útil para o terceiro pivô."
   ]
  },
  {
   "cell_type": "markdown",
   "id": "e252989f",
   "metadata": {},
   "source": [
    "#### Item C)"
   ]
  },
  {
   "cell_type": "markdown",
   "id": "a6468967",
   "metadata": {},
   "source": [
    "Em representações de ponto-flutuante (base 2), números como 0.1 não são exatamente representáveis. Portanto a matriz 𝐴 armazenada no computador não é exatamente $\\frac{1}{10}*𝐵$ — ela é uma aproximação. Assim, numericamente 𝐴 fica quase singular, mas não exatamente singular. "
   ]
  },
  {
   "cell_type": "code",
   "execution_count": 10,
   "id": "c424d379",
   "metadata": {},
   "outputs": [
    {
     "data": {
      "text/plain": [
       "array([[ 0.1672619 ],\n",
       "       [ 0.66547619],\n",
       "       [-0.16607143]])"
      ]
     },
     "execution_count": 10,
     "metadata": {},
     "output_type": "execute_result"
    }
   ],
   "source": [
    "x_num = np.linalg.solve(A,b)\n",
    "x_num"
   ]
  },
  {
   "cell_type": "markdown",
   "id": "357306b4",
   "metadata": {},
   "source": [
    "Como visto acima, métodos diretos podem retornar uma solução numérica porque a matriz representada tem um pequeno desvio que torna o determinante numérico diferente de zero. Entretanto a matriz é extremamente mal condicionada: isso significa que pequenas perturbações (por exemplo erros de arredondamento) podem causar grandes mudanças na solução.\n"
   ]
  },
  {
   "cell_type": "code",
   "execution_count": 11,
   "id": "98cced53",
   "metadata": {},
   "outputs": [
    {
     "data": {
      "text/plain": [
       "array([[0.38888889],\n",
       "       [0.22222222],\n",
       "       [0.05555556]])"
      ]
     },
     "execution_count": 11,
     "metadata": {},
     "output_type": "execute_result"
    }
   ],
   "source": [
    "sol_aprox, _, _, _ = np.linalg.lstsq(A,b, rcond=None)\n",
    "sol_aprox"
   ]
  },
  {
   "cell_type": "markdown",
   "id": "1f1d8733",
   "metadata": {},
   "source": [
    "No nosso cálculo com NumPy obtivemos que:\n",
    "\n",
    "- np.linalg.solve(A,b) retornou uma solução por causa da não-exatidão de 𝐴 em ponto-flutuante.\n",
    "- O método dos mínimos quadrados utilizando o pseudoinverso de A (np.linalg.lstsq) deu uma solução particular exata (em termos racionais), retornando a solução de norma mínima: $$ 𝑥_𝑝 = [\\frac{7}{18}, \\frac{2}{9}, \\frac{1}{18}]^𝑇$$\n",
    "\n",
    "As duas soluções diferem por um múltiplo do vetor do núcleo, isto é, ambas são soluções da equação numericamente, e a diferença entre elas é compatível com $$ 𝑡*[−1, 2, −1] $$\n",
    "\n",
    "Resumindo: o método numérico não \"falha\" porque o computador trabalha com uma versão levemente perturbada de 𝐴, mas os resultados devem ser tratados com cautela por causa da altíssima sensibilidade."
   ]
  },
  {
   "cell_type": "markdown",
   "id": "53dff925",
   "metadata": {},
   "source": [
    "#### Item D)"
   ]
  },
  {
   "cell_type": "markdown",
   "id": "db7a246c",
   "metadata": {},
   "source": [
    "O número de condição mede o quão sensível é o sistema a pequenas perturbações nos dados. "
   ]
  },
  {
   "cell_type": "code",
   "execution_count": 12,
   "id": "b0e3911c",
   "metadata": {},
   "outputs": [
    {
     "data": {
      "text/plain": [
       "2.37588029981422e+16"
      ]
     },
     "execution_count": 12,
     "metadata": {},
     "output_type": "execute_result"
    }
   ],
   "source": [
    "cond_A = np.linalg.cond(A)\n",
    "cond_A"
   ]
  },
  {
   "cell_type": "markdown",
   "id": "ab41ddd4",
   "metadata": {},
   "source": [
    "Em ponto-flutuante double (numa máquina com $𝜀_{mach} ≈ 2.22*10^{−16}), a amplificação de erro típica é da ordem de: $$ cond(𝐴)*𝜀_{mach} $$\n",
    "Nesse caso<br> $$ cond(𝐴)*𝜀_{mach} ≈ 2.3758*10^{16}*2.22*10^{−16} ≈ 5.27 > 1 $$<br>\n",
    "\n",
    "Ou seja, qualquer erro de arredondamento pode gerar um erro relativo na solução da ordem de unidade — portanto não se pode confiar em dígitos significativos da solução obtida numericamente.<br>\n",
    "Uma estimação grosseira do número de dígitos decimais corretos é $$ log_{10}(cond(𝐴)) $$<br>\n",
    "O que dá um número negativo. Em termos práticos isso significa 0 dígitos confiáveis.\n",
    "\n",
    "Para a matriz exata 𝐴 (matematicamente) o condicionamento é infinito, uma vez que det(𝐴) = 0, o que implica que a matriz não é invertível. Numericamente obtemos um valor muito grande mas finito por causa da representação em ponto flutuante."
   ]
  },
  {
   "cell_type": "markdown",
   "id": "8ab08844",
   "metadata": {},
   "source": [
    "### Questão 2"
   ]
  },
  {
   "cell_type": "markdown",
   "id": "2db43f85",
   "metadata": {},
   "source": [
    "#### Item A)\n",
    "Em cada junta a treliça está em equilíbrio estático, ou seja a soma vetorial das forças (componentes horizontal e vertical) que atuam naquela junta deve ser zero. Para cada junta escrevemos as duas equações (horizontal e vertical) — algumas juntas têm apenas uma equação independente. Projetando forças nas direções 𝑥(horizontal) e 𝑦(vertical) obtemos equações lineares em $$ 𝑓_1, … , 𝑓_{13} $$\n",
    "\n",
    "A montagem do sistema é exatamente transcrever essas equações em forma linear $$ 𝐴𝑓 = 𝑏 $$\n",
    "A convenção utilizada foi que o somatório das componentes vetoriais = 0, que “para a direita” em 𝑥 e que “para cima” em 𝑦 como positivas.\n",
    "\n",
    "As equações são:\n",
    "\n",
    "- Junta 2 <br>\n",
    "$𝑓_2 − 𝑓_6 = 0$ (equilíbrio horizontal na junta 2) <br>\n",
    "$𝑓_3 = 10$ (equilíbrio vertical — a barra vertical 3 sustenta a carga 10)\n",
    "\n",
    "- Junta 3<br>\n",
    "$𝛼*𝑓_1 − 𝑓_4 − 𝛼*𝑓_5 = 0$ (equilíbrio horizontal em 3) <br>\n",
    "$𝛼*𝑓_1 + 𝑓_3 + 𝛼*𝑓_5 = 0$ (equilíbrio vertical em 3)\n",
    "\n",
    "- Junta 4<br>\n",
    "$𝑓_4 − 𝑓_8 = 0$ (horizontal)<br>\n",
    "$𝑓_7 = 0$ (vertical — a força na barra 7 é zero)\n",
    "\n",
    "- Junta 5<br>\n",
    "$𝛼*𝑓_5 + 𝑓_6 − 𝛼*𝑓_9 − 𝑓_{10} = 0$ (horizontal em 5)<br>\n",
    "$𝛼*𝑓_5 + 𝑓_7 + 𝛼*𝑓_9 = 15$ (vertical em 5 — sustenta carga 15)\n",
    "\n",
    "- Junta 6<br\n",
    "$𝑓_{10} − 𝑓_{13} = 0$ (horizontal em 6)<br>\n",
    "$𝑓_{11} = 20$ (vertical — a barra 11 sustenta a carga 20)\n",
    "\n",
    "- Junta 7<br>\n",
    "$𝑓_8 + 𝛼*𝑓_9 − 𝛼*𝑓_{12} = 0 <br>\n",
    "$𝛼*𝑓_9 + 𝑓_{11} + 𝛼*𝑓_{12} = 0$\n",
    "\n",
    "- Junta 8<br>\n",
    "$𝑓_{13} + 𝛼*𝑓_{12} = 0$\n",
    "\n",
    "\n",
    "Cada uma dessas equações é linear nas incógnitas $𝑓_𝑖$. Agora escrevemos o sistema como $𝐴𝑓 = 𝑏$ tomando as equações na mesma ordem acima.\n"
   ]
  },
  {
   "cell_type": "code",
   "execution_count": 13,
   "id": "41c62e87",
   "metadata": {},
   "outputs": [
    {
     "data": {
      "text/plain": [
       "(array([[ 0.    ,  1.    ,  0.    ,  0.    ,  0.    , -1.    ,  0.    ,\n",
       "          0.    ,  0.    ,  0.    ,  0.    ,  0.    ,  0.    ],\n",
       "        [ 0.    ,  0.    ,  1.    ,  0.    ,  0.    ,  0.    ,  0.    ,\n",
       "          0.    ,  0.    ,  0.    ,  0.    ,  0.    ,  0.    ],\n",
       "        [ 0.7071,  0.    ,  0.    , -1.    , -0.7071,  0.    ,  0.    ,\n",
       "          0.    ,  0.    ,  0.    ,  0.    ,  0.    ,  0.    ],\n",
       "        [ 0.7071,  0.    ,  1.    ,  0.    ,  0.7071,  0.    ,  0.    ,\n",
       "          0.    ,  0.    ,  0.    ,  0.    ,  0.    ,  0.    ],\n",
       "        [ 0.    ,  0.    ,  0.    ,  1.    ,  0.    ,  0.    ,  0.    ,\n",
       "         -1.    ,  0.    ,  0.    ,  0.    ,  0.    ,  0.    ],\n",
       "        [ 0.    ,  0.    ,  0.    ,  0.    ,  0.    ,  0.    ,  1.    ,\n",
       "          0.    ,  0.    ,  0.    ,  0.    ,  0.    ,  0.    ],\n",
       "        [ 0.    ,  0.    ,  0.    ,  0.    ,  0.7071,  1.    ,  0.    ,\n",
       "          0.    , -0.7071, -1.    ,  0.    ,  0.    ,  0.    ],\n",
       "        [ 0.    ,  0.    ,  0.    ,  0.    ,  0.7071,  0.    ,  1.    ,\n",
       "          0.    ,  0.7071,  0.    ,  0.    ,  0.    ,  0.    ],\n",
       "        [ 0.    ,  0.    ,  0.    ,  0.    ,  0.    ,  0.    ,  0.    ,\n",
       "          0.    ,  0.    ,  1.    ,  0.    ,  0.    , -1.    ],\n",
       "        [ 0.    ,  0.    ,  0.    ,  0.    ,  0.    ,  0.    ,  0.    ,\n",
       "          0.    ,  0.    ,  0.    ,  1.    ,  0.    ,  0.    ],\n",
       "        [ 0.    ,  0.    ,  0.    ,  0.    ,  0.    ,  0.    ,  0.    ,\n",
       "          1.    ,  0.7071,  0.    ,  0.    , -0.7071,  0.    ],\n",
       "        [ 0.    ,  0.    ,  0.    ,  0.    ,  0.    ,  0.    ,  0.    ,\n",
       "          0.    ,  0.7071,  0.    ,  1.    ,  0.7071,  0.    ],\n",
       "        [ 0.    ,  0.    ,  0.    ,  0.    ,  0.    ,  0.    ,  0.    ,\n",
       "          0.    ,  0.    ,  0.    ,  0.    ,  0.7071,  1.    ]]),\n",
       " array([ 0., 10.,  0.,  0.,  0.,  0.,  0., 15.,  0., 20.,  0.,  0.,  0.]))"
      ]
     },
     "execution_count": 13,
     "metadata": {},
     "output_type": "execute_result"
    }
   ],
   "source": [
    "alpha = np.sqrt(2)/2\n",
    "n = 13\n",
    "\n",
    "# Montagem da matriz A e do vetor b (índices: f1->0 ... f13->12)\n",
    "A = np.zeros((n,n), dtype=float)\n",
    "b = np.zeros(n, dtype=float)\n",
    "\n",
    "def set_row(row, coeffs, rhs=0.0):\n",
    "    for idx, val in coeffs:\n",
    "        A[row, idx] = val\n",
    "    b[row] = rhs\n",
    "\n",
    "set_row(0, [(1, 1.0), (5, -1.0)], 0.0)\n",
    "set_row(1, [(2, 1.0)], 10.0)\n",
    "set_row(2, [(0, alpha), (3, -1.0), (4, -alpha)], 0.0)\n",
    "set_row(3, [(0, alpha), (2, 1.0), (4, alpha)], 0.0)\n",
    "set_row(4, [(3, 1.0), (7, -1.0)], 0.0)\n",
    "set_row(5, [(6, 1.0)], 0.0)\n",
    "set_row(6, [(4, alpha), (5, 1.0), (8, -alpha), (9, -1.0)], 0.0)\n",
    "set_row(7, [(4, alpha), (6, 1.0), (8, alpha)], 15.0)\n",
    "set_row(8, [(9, 1.0), (12, -1.0)], 0.0)\n",
    "set_row(9, [(10, 1.0)], 20.0)\n",
    "set_row(10, [(7, 1.0), (8, alpha), (11, -alpha)], 0.0)\n",
    "set_row(11, [(8, alpha), (10, 1.0), (11, alpha)], 0.0)\n",
    "set_row(12, [(12, 1.0), (11, alpha)], 0.0)\n",
    "\n",
    "A_sparse = sp.csr_matrix(A)\n",
    "\n",
    "np.set_printoptions(precision=4, suppress=True)\n",
    "A, b\n"
   ]
  },
  {
   "cell_type": "markdown",
   "id": "16bc639f",
   "metadata": {},
   "source": [
    "Como 𝐴 é uma matriz quadrada 13×13 e invertível, existe solução única $$ 𝑓 = 𝐴^{−1}*𝑏 $$\n",
    "\n",
    "Métodos diretos comuns:\n",
    "- Eliminação de Gauss / fatoração LU com pivotamento parcial: Custo $\\mathbb{O}(n^3)$ para matrizes densas. Numericamente robusto e recomendado para sistemas pequenos/medios.\n",
    "\n",
    "- Solvers esparsos diretos: Usam técnicas de eliminação preservando/evitando preenchimento, vão ajudar nesse caso pois 𝐴 é esparsa.\n",
    "\n",
    "\n",
    "numpy.linalg.solve chama rotinas LAPACK (LU + pivot) e resolve de forma direta e estável para matrizes densas.<br>\n",
    "\n",
    "scipy.sparse.linalg.spsolve usa um solver esparso que é eficiente em memória e tempo quando a matriz contém poucos elementos não nulos.<br>\n",
    "Como 𝐴 tem poucas entradas não-nulas por linha, usar representação esparsa economiza memória e é mais rápido em problemas maiores.\n",
    "\n",
    "Solução numérica: $$ 𝑓 ≈ [−28.2843, 20, 10, −30, 14.1421, 20, 0, −30, 7.0711, 25, 20, −35.3553, 25]^⊤ $$\n",
    "\n",
    "O fato de ser obtida uma solução única numericamente indica que 𝐴 é (numericamente) invertível."
   ]
  },
  {
   "cell_type": "code",
   "execution_count": 14,
   "id": "4da173cf",
   "metadata": {},
   "outputs": [
    {
     "name": "stdout",
     "output_type": "stream",
     "text": [
      "Solução (NumPy):\n",
      " [-28.2843  20.      10.     -30.      14.1421  20.       0.     -30.\n",
      "   7.0711  25.      20.     -35.3553  25.    ]\n",
      "\n",
      "Solução (SciPy spsolve):\n",
      " [-28.2843  20.      10.     -30.      14.1421  20.       0.     -30.\n",
      "   7.0711  25.      20.     -35.3553  25.    ]\n"
     ]
    }
   ],
   "source": [
    "# Resolução direta com NumPy (matriz densa)\n",
    "try:\n",
    "    f_numpy = np.linalg.solve(A, b)\n",
    "    print('Solução (NumPy):\\n', f_numpy)\n",
    "except Exception as e:\n",
    "    print('Erro ao resolver com NumPy:', e)\n",
    "\n",
    "# Resolução com solver esparso do SciPy\n",
    "try:\n",
    "    f_sparse = spla.spsolve(A_sparse, b)\n",
    "    print('\\nSolução (SciPy spsolve):\\n', f_sparse)\n",
    "except Exception as e:\n",
    "    print('Erro ao resolver esparsamente:', e)"
   ]
  },
  {
   "cell_type": "markdown",
   "id": "ba4873d2",
   "metadata": {},
   "source": [
    "Formulação matricial das iterações:\n",
    "Escrever 𝐴 = 𝐷 + 𝐿 + 𝑈, onde 𝐷 é a diagonal de 𝐴, 𝐿 é a parte estritamente inferior (triangular inferior sem a diagonal), 𝑈 é a parte estritamente superior.\n",
    "\n",
    "As formas iterativas são:\n",
    "\n",
    "- Jacobi: $$ 𝑥^{*𝑘 + 1} = −𝐷^{−1}*(𝐿 + 𝑈)*𝑥^𝑘 + 𝐷^{−1}*𝑏 $$\n",
    "\n",
    "matriz de iteração $$ 𝐵_J = −𝐷^{−1}*(𝐿 + 𝑈) $$\n",
    "\n",
    "- Gauss–Seidel: $$ 𝑥^{𝑘 + 1} = −(𝐷 + 𝐿)^{−1}*𝑈*𝑥^k + (𝐷 + 𝐿)^{−1}*𝑏 $$\n",
    "\n",
    "matriz de iteração $$ 𝐵_{GS} = −(𝐷 + 𝐿)^{−1}*𝑈 $$\n",
    "\n",
    "Critério de convergência: a iteração converge (para todo $𝑥^{(0)}$) se e somente se 𝜌(𝐵) < 1, onde 𝜌(⋅) é o raio espectral (maior módulo dos autovalores).<br>\n",
    "Condições suficientes:\n",
    "\n",
    "- Se 𝐴 é estritamente diagonalmente dominante por linhas $(∣𝑎_{𝑖𝑖}∣ > ∑_{𝑗 ≠ 𝑖} ∣𝑎_{𝑖j}∣$ para todo 𝑖), então tanto Jacobi quanto Gauss–Seidel convergem;\n",
    "\n",
    "- Se 𝐴 é simétrica definida positiva (SPD), Gauss–Seidel converge; Jacobi pode ou não convergir dependendo da magnitude do raio espectral.\n",
    "\n",
    "Observando a diagonal de 𝐴 obtida na montagem: muitas entradas da diagonal são zero. \n",
    "\n",
    "Na montagem usada os primeiros 11 elementos diagonais são zero e apenas as últimas duas linhas têm diagonal não-nula: isso vem do modo natural como as equações foram colocadas — cada equação foi escrita sem garantir que a incógnita correspondente esteja na diagonal.\n",
    "\n",
    "Consequências imediatas:\n",
    "\n",
    "- Jacobi exige $𝐷^{−1}$ — se 𝐷 tem zeros na diagonal, $𝐷^{−1}$ não existe e a fórmula de Jacobi é indeterminada. Assim não se pode aplicar Jacobi diretamente com a ordenação natural das incógnitas/equações usada.\n",
    "\n",
    "- Gauss–Seidel exige $(𝐷 + 𝐿)^{−1}$. É notável que (D + L) é triangular inferior e sua diagonal é igual à diagonal de 𝐷. Se qualquer elemento da diagonal de 𝐷 é zero, o triangular inferior (𝐷 + 𝐿) tem diagonal zero nessa posição ⇒ (𝐷 + 𝐿) é singular ⇒ não existe $(𝐷 + 𝐿)^{−1}$, logo a fórmula direta de Gauss–Seidel também falha com a ordenação atual. (Isto é exatamente o erro numérico “Singular matrix” que aparece quando tentamos formar a matriz de iteração.)\n",
    "\n",
    "Portanto, com a modelagem/ordenamento natural utilizada, nem Jacobi nem Gauss–Seidel podem ser aplicados diretamente.\n"
   ]
  },
  {
   "cell_type": "code",
   "execution_count": 16,
   "id": "c2c96f6a",
   "metadata": {},
   "outputs": [
    {
     "name": "stdout",
     "output_type": "stream",
     "text": [
      "A tem zeros na diagonal: Jacobi direto não é aplicável sem rearranjo.\n",
      "Erro ao calcular matriz de iteração de Gauss-Seidel: Singular matrix\n"
     ]
    }
   ],
   "source": [
    "# Análise de convergência para Jacobi e Gauss-Seidel\n",
    "D = np.diag(np.diag(A))\n",
    "L = np.tril(A, k=-1)\n",
    "U = np.triu(A, k=1)\n",
    "\n",
    "if np.any(np.diag(D) == 0):\n",
    "    print('A tem zeros na diagonal: Jacobi direto não é aplicável sem rearranjo.')\n",
    "else:\n",
    "    Dinv = np.linalg.inv(D)\n",
    "    B_jacobi = -Dinv.dot(L + U)\n",
    "    eigs_j = np.linalg.eigvals(B_jacobi)\n",
    "    rho_j = max(abs(eigs_j))\n",
    "    print('Raio espectral de Jacobi:', rho_j)\n",
    "\n",
    "try:\n",
    "    B_gs = -np.linalg.inv(D + L).dot(U)\n",
    "    eigs_gs = np.linalg.eigvals(B_gs)\n",
    "    rho_gs = max(abs(eigs_gs))\n",
    "    print('Raio espectral de Gauss-Seidel:', rho_gs)\n",
    "except Exception as e:\n",
    "    print('Erro ao calcular matriz de iteração de Gauss-Seidel:', e)\n"
   ]
  }
 ],
 "metadata": {
  "kernelspec": {
   "display_name": "Python 3",
   "language": "python",
   "name": "python3"
  },
  "language_info": {
   "codemirror_mode": {
    "name": "ipython",
    "version": 3
   },
   "file_extension": ".py",
   "mimetype": "text/x-python",
   "name": "python",
   "nbconvert_exporter": "python",
   "pygments_lexer": "ipython3",
   "version": "3.10.12"
  }
 },
 "nbformat": 4,
 "nbformat_minor": 5
}
