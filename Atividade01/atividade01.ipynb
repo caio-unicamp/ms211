{
 "cells": [
  {
   "cell_type": "markdown",
   "id": "46b83e10",
   "metadata": {},
   "source": [
    "# Sistemas Lineares, Erros e Aritmética de Pontos Flutuantes\n"
   ]
  },
  {
   "cell_type": "markdown",
   "id": "58ba75dc",
   "metadata": {},
   "source": [
    "Nesse notebook será desenvolvido o projeto que irá responder os desafios propostos na Atividade 01 de MS211 - Cálculo Numérico"
   ]
  },
  {
   "cell_type": "markdown",
   "id": "5db50e8d",
   "metadata": {},
   "source": [
    "## Instalação de Bibliotecas\n"
   ]
  },
  {
   "cell_type": "code",
   "execution_count": 1,
   "id": "aea5363e",
   "metadata": {},
   "outputs": [
    {
     "name": "stdout",
     "output_type": "stream",
     "text": [
      "Defaulting to user installation because normal site-packages is not writeable\n",
      "Requirement already satisfied: numpy in /home/caio/.local/lib/python3.10/site-packages (1.26.4)\n",
      "Note: you may need to restart the kernel to use updated packages.\n",
      "Defaulting to user installation because normal site-packages is not writeable\n",
      "Requirement already satisfied: scipy in /home/caio/.local/lib/python3.10/site-packages (1.13.1)\n",
      "Requirement already satisfied: numpy<2.3,>=1.22.4 in /home/caio/.local/lib/python3.10/site-packages (from scipy) (1.26.4)\n",
      "Note: you may need to restart the kernel to use updated packages.\n"
     ]
    }
   ],
   "source": [
    "%pip install numpy\n",
    "%pip install scipy"
   ]
  },
  {
   "cell_type": "markdown",
   "id": "f1889751",
   "metadata": {},
   "source": [
    "## Importando bibliotecas"
   ]
  },
  {
   "cell_type": "code",
   "execution_count": 2,
   "id": "d4e0772e",
   "metadata": {},
   "outputs": [],
   "source": [
    "import numpy as np\n",
    "import scipy"
   ]
  },
  {
   "cell_type": "markdown",
   "id": "6799ee46",
   "metadata": {},
   "source": [
    "### Questão 1"
   ]
  },
  {
   "cell_type": "markdown",
   "id": "edfb6648",
   "metadata": {},
   "source": [
    "Considerando o sistema linear $Ax = b$, em que\n",
    "$$A = \\begin{bmatrix} 0.1 & 0.2 & 0.3 \\\\ 0.4 & 0.5 & 0.6 \\\\ 0.7 & 0.8 & 0.9 \\end{bmatrix}, \\quad b = \\begin{bmatrix} 0.1 \\\\ 0.3 \\\\ 0.5 \\end{bmatrix}$$"
   ]
  },
  {
   "cell_type": "code",
   "execution_count": 3,
   "id": "0163f587",
   "metadata": {},
   "outputs": [],
   "source": [
    "A = np.array([[0.1, 0.2, 0.3], \n",
    "              [0.4, 0.5, 0.6], \n",
    "              [0.7, 0.8, 0.9]])\n",
    "b = np.array([[0.1],[0.3],[0.5]])"
   ]
  },
  {
   "cell_type": "markdown",
   "id": "89bdf4b9",
   "metadata": {},
   "source": [
    "Uma matriz é dita singular quando ela não possui inversa, isso também pode ser interpretado como o determinante dessa matriz sendo igual a 0. <br>\n",
    "Abaixo, vemos que o determinante é muito próximo de 0."
   ]
  },
  {
   "cell_type": "code",
   "execution_count": 4,
   "id": "bf7b9341",
   "metadata": {},
   "outputs": [
    {
     "data": {
      "text/plain": [
       "6.661338147750926e-18"
      ]
     },
     "execution_count": 4,
     "metadata": {},
     "output_type": "execute_result"
    }
   ],
   "source": [
    "det_A = np.linalg.det(A)\n",
    "det_A"
   ]
  },
  {
   "cell_type": "markdown",
   "id": "a58c1b84",
   "metadata": {},
   "source": [
    "#### Item A)"
   ]
  },
  {
   "cell_type": "markdown",
   "id": "955d0d1a",
   "metadata": {},
   "source": [
    "Como o cálculo do determinante de uma matriz envolve produtos de pivôs, primeiro vamos alterar essa matriz para que não aconteçam erros devido a pontos flutuantes.<br>\n",
    "Sabe-se que se uma matriz B puder ser escrita como B = $k^n$*A, com k sendo escalar, n sendo a dimensão da matriz e A uma matriz de mesma dimensão que B, então o determinante da matriz B será\n",
    "\n",
    "$$ det(B) = k^n*det(A) $$\n",
    "\n",
    "Vamos dizer que a matriz B auxiliar será B = 10*A\n"
   ]
  },
  {
   "cell_type": "code",
   "execution_count": 5,
   "id": "817b2057",
   "metadata": {},
   "outputs": [
    {
     "data": {
      "text/plain": [
       "array([[1., 2., 3.],\n",
       "       [4., 5., 6.],\n",
       "       [7., 8., 9.]])"
      ]
     },
     "execution_count": 5,
     "metadata": {},
     "output_type": "execute_result"
    }
   ],
   "source": [
    "B = 10*A\n",
    "B"
   ]
  },
  {
   "cell_type": "markdown",
   "id": "8ec0c573",
   "metadata": {},
   "source": [
    "Daí então, calcula-se o determinante da matriz B"
   ]
  },
  {
   "cell_type": "code",
   "execution_count": 6,
   "id": "8aa53aef",
   "metadata": {},
   "outputs": [
    {
     "data": {
      "text/plain": [
       "0.0"
      ]
     },
     "execution_count": 6,
     "metadata": {},
     "output_type": "execute_result"
    }
   ],
   "source": [
    "det_B = np.linalg.det(B)\n",
    "det_B"
   ]
  },
  {
   "cell_type": "markdown",
   "id": "213f1eee",
   "metadata": {},
   "source": [
    "Ou seja, det(B) = 0 = $10^3$*det(A), logo det(A) = 0. <br>\n",
    "Como a matriz A é singular, o sistema pode ser inconsistente, ou consistente com infinitas soluções. Para analisar isso, vemos o posto das duas matrizes."
   ]
  },
  {
   "cell_type": "code",
   "execution_count": 7,
   "id": "cc2cd60d",
   "metadata": {},
   "outputs": [
    {
     "name": "stdout",
     "output_type": "stream",
     "text": [
      "Sistema Consistente\n"
     ]
    }
   ],
   "source": [
    "rank_A = np.linalg.matrix_rank(A)\n",
    "Ab = np.hstack((A, b.reshape(-1, 1)))\n",
    "rank_Ab = np.linalg.matrix_rank(Ab)\n",
    "if rank_Ab == rank_A:\n",
    "    print(\"Sistema Consistente\")\n",
    "else:\n",
    "    print(\"Sistema Inconsistente\")"
   ]
  },
  {
   "cell_type": "markdown",
   "id": "e40cce58",
   "metadata": {},
   "source": [
    "Como o posto de A é igual ao posto da matriz aumentada $A | b$, então o sistema é consistente, logo possui infinitas soluções.<br>\n",
    "O conjunto solução é do tipo \n",
    "$$ x = x_p + t v, \\quad t \\in \\mathbb{R} $$"
   ]
  },
  {
   "cell_type": "code",
   "execution_count": 24,
   "id": "d2da8d65",
   "metadata": {},
   "outputs": [
    {
     "data": {
      "text/plain": [
       "(array([[0.03888889],\n",
       "        [0.02222222],\n",
       "        [0.00555556]]),\n",
       " array([[-0.40824829],\n",
       "        [ 0.81649658],\n",
       "        [-0.40824829]]))"
      ]
     },
     "execution_count": 24,
     "metadata": {},
     "output_type": "execute_result"
    }
   ],
   "source": [
    "sol_particular, _, _, _ = np.linalg.lstsq(B, b, rcond=None)\n",
    "nucleo = scipy.linalg.null_space(B)\n",
    "sol_particular, nucleo"
   ]
  },
  {
   "cell_type": "markdown",
   "id": "8c96ca69",
   "metadata": {},
   "source": [
    "Nesse caso \"sol_particular\" é o $xp$ e \"nucleo\" é a base ortonormal $v$ para o espaço A"
   ]
  },
  {
   "cell_type": "markdown",
   "id": "a174a811",
   "metadata": {},
   "source": [
    "#### Item B)\n"
   ]
  },
  {
   "cell_type": "markdown",
   "id": "ae615ea5",
   "metadata": {},
   "source": [
    "Com aritmética exata, o método falha quando o último pivô é 0.<br>\n",
    "Vamos verificar os pivôs da decomposição LU"
   ]
  },
  {
   "cell_type": "code",
   "execution_count": 9,
   "id": "a7cb01a6",
   "metadata": {},
   "outputs": [
    {
     "data": {
      "text/plain": [
       "array([7.00000000e-01, 8.57142857e-02, 1.11022302e-16])"
      ]
     },
     "execution_count": 9,
     "metadata": {},
     "output_type": "execute_result"
    }
   ],
   "source": [
    "P, L, U = scipy.linalg.lu(A)\n",
    "np.diag(U)"
   ]
  },
  {
   "cell_type": "markdown",
   "id": "0a9a4d53",
   "metadata": {},
   "source": [
    "Fazendo eliminação direta em aritmética exata sobre a matriz inteira 𝐵 (proporcional a 𝐴): <br>\n",
    "Pivot $𝑎_{11} = 1$. Eliminar abaixo:<br>\n",
    "$𝑅_2 ← 𝑅_2 − 4*𝑅_1 ⇒ [0, −3, −6]$<br>\n",
    "$𝑅_3 ← 𝑅_3 − 7*𝑅_1 ⇒ [0, −6, −12]$<br>\n",
    "Pivot na segunda etapa é −3 (não zero). Eliminar abaixo:<br>\n",
    "$𝑅_3 ← 𝑅_3 −2*𝑅_2 ⇒ [0, 0, 0]$\n",
    "\n",
    "Agora restou uma linha zero; ao tentar usar essa linha como terceiro pivot, ele seria 0 — não há pivô e o processo não consegue obter uma matriz triangular com pivôs não-nulos para voltar a uma solução única. Portanto não é possível avançar na eliminação ao tentar obter o terceiro pivô (o sistema é singular), o que indica número infinito de soluções (ou inconsistência, se a linha zero viesse acompanhada de termo independente não-zero).<br>\n",
    "\n",
    "Com pivoteamento parcial não se evita essa situação porque as linhas são proporcionais de modo que o terceiro pivô será zero: não há um elemento não nulo útil para o terceiro pivô."
   ]
  },
  {
   "cell_type": "markdown",
   "id": "e252989f",
   "metadata": {},
   "source": [
    "#### Item C)"
   ]
  },
  {
   "cell_type": "markdown",
   "id": "a6468967",
   "metadata": {},
   "source": [
    "Em representações de ponto-flutuante (base 2), números como 0.1 não são exatamente representáveis. Portanto a matriz 𝐴 armazenada no computador não é exatamente $\\frac{1}{10}*𝐵$ — ela é uma aproximação. Assim, numericamente 𝐴 fica quase singular, mas não exatamente singular. "
   ]
  },
  {
   "cell_type": "code",
   "execution_count": 12,
   "id": "c424d379",
   "metadata": {},
   "outputs": [
    {
     "data": {
      "text/plain": [
       "array([[ 0.1672619 ],\n",
       "       [ 0.66547619],\n",
       "       [-0.16607143]])"
      ]
     },
     "execution_count": 12,
     "metadata": {},
     "output_type": "execute_result"
    }
   ],
   "source": [
    "x_num = np.linalg.solve(A,b)\n",
    "x_num"
   ]
  },
  {
   "cell_type": "markdown",
   "id": "357306b4",
   "metadata": {},
   "source": [
    "Como visto acima, métodos diretos podem retornar uma solução numérica porque a matriz representada tem um pequeno desvio que torna o determinante numérico diferente de zero. Entretanto a matriz é extremamente mal condicionada: isso significa que pequenas perturbações (por exemplo erros de arredondamento) podem causar grandes mudanças na solução.\n"
   ]
  },
  {
   "cell_type": "code",
   "execution_count": 25,
   "id": "98cced53",
   "metadata": {},
   "outputs": [
    {
     "data": {
      "text/plain": [
       "array([[0.38888889],\n",
       "       [0.22222222],\n",
       "       [0.05555556]])"
      ]
     },
     "execution_count": 25,
     "metadata": {},
     "output_type": "execute_result"
    }
   ],
   "source": [
    "sol_aprox, _, _, _ = np.linalg.lstsq(A,b, rcond=None)\n",
    "sol_aprox"
   ]
  },
  {
   "cell_type": "markdown",
   "id": "1f1d8733",
   "metadata": {},
   "source": [
    "No nosso cálculo com NumPy obtivemos que:\n",
    "\n",
    "- np.linalg.solve(A,b) retornou uma solução por causa da não-exatidão de 𝐴 em ponto-flutuante.\n",
    "- O método dos mínimos quadrados utilizando o pseudoinverso de A (np.linalg.lstsq) deu uma solução particular exata (em termos racionais), retornando a solução de norma mínima: $$ 𝑥_𝑝 = [\\frac{7}{18}, \\frac{2}{9}, \\frac{1}{18}]^𝑇$$\n",
    "\n",
    "As duas soluções diferem por um múltiplo do vetor do núcleo, isto é, ambas são soluções da equação numericamente, e a diferença entre elas é compatível com $$ 𝑡*[−1, 2, −1] $$\n",
    "\n",
    "Resumindo: o método numérico não \"falha\" porque o computador trabalha com uma versão levemente perturbada de 𝐴, mas os resultados devem ser tratados com cautela por causa da altíssima sensibilidade."
   ]
  },
  {
   "cell_type": "markdown",
   "id": "53dff925",
   "metadata": {},
   "source": [
    "#### Item D)"
   ]
  },
  {
   "cell_type": "markdown",
   "id": "db7a246c",
   "metadata": {},
   "source": [
    "O número de condição mede o quão sensível é o sistema a pequenas perturbações nos dados. "
   ]
  },
  {
   "cell_type": "code",
   "execution_count": 26,
   "id": "b0e3911c",
   "metadata": {},
   "outputs": [
    {
     "data": {
      "text/plain": [
       "2.37588029981422e+16"
      ]
     },
     "execution_count": 26,
     "metadata": {},
     "output_type": "execute_result"
    }
   ],
   "source": [
    "cond_A = np.linalg.cond(A)\n",
    "cond_A"
   ]
  },
  {
   "cell_type": "markdown",
   "id": "ab41ddd4",
   "metadata": {},
   "source": [
    "Em ponto-flutuante double (numa máquina com $𝜀_{mach} ≈ 2.22*10^{−16}), a amplificação de erro típica é da ordem de: $$ cond(𝐴)*𝜀_{mach} $$\n",
    "Nesse caso<br> $$ cond(𝐴)*𝜀_{mach} ≈ 2.3758*10^{16}*2.22*10^{−16} ≈ 5.27 > 1 $$<br>\n",
    "\n",
    "Ou seja, qualquer erro de arredondamento pode gerar um erro relativo na solução da ordem de unidade — portanto não se pode confiar em dígitos significativos da solução obtida numericamente.<br>\n",
    "Uma estimação grosseira do número de dígitos decimais corretos é $$ log_{10}(cond(𝐴)) $$<br>\n",
    "O que dá um número negativo. Em termos práticos isso significa 0 dígitos confiáveis.\n",
    "\n",
    "Para a matriz exata 𝐴 (matematicamente) o condicionamento é infinito, uma vez que det(𝐴) = 0, o que implica que a matriz não é invertível. Numericamente obtemos um valor muito grande mas finito por causa da representação em ponto flutuante."
   ]
  }
 ],
 "metadata": {
  "kernelspec": {
   "display_name": "Python 3",
   "language": "python",
   "name": "python3"
  },
  "language_info": {
   "codemirror_mode": {
    "name": "ipython",
    "version": 3
   },
   "file_extension": ".py",
   "mimetype": "text/x-python",
   "name": "python",
   "nbconvert_exporter": "python",
   "pygments_lexer": "ipython3",
   "version": "3.10.12"
  }
 },
 "nbformat": 4,
 "nbformat_minor": 5
}
