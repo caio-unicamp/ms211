{
  "nbformat": 4,
  "nbformat_minor": 0,
  "metadata": {
    "colab": {
      "provenance": []
    },
    "kernelspec": {
      "name": "python3",
      "display_name": "Python 3"
    },
    "language_info": {
      "name": "python"
    }
  },
  "cells": [
    {
      "cell_type": "markdown",
      "source": [
        "## Instalando dependências"
      ],
      "metadata": {
        "id": "jDfwDmR1zWOQ"
      }
    },
    {
      "cell_type": "code",
      "execution_count": null,
      "metadata": {
        "colab": {
          "base_uri": "https://localhost:8080/"
        },
        "id": "Ly8VKe4BWCnN",
        "outputId": "eef07a4e-b3e3-41fa-a87f-91686c69a6ab"
      },
      "outputs": [
        {
          "output_type": "stream",
          "name": "stdout",
          "text": [
            "Requirement already satisfied: numpy in /usr/local/lib/python3.12/dist-packages (2.0.2)\n",
            "Requirement already satisfied: matplotlib in /usr/local/lib/python3.12/dist-packages (3.10.0)\n",
            "Requirement already satisfied: contourpy>=1.0.1 in /usr/local/lib/python3.12/dist-packages (from matplotlib) (1.3.3)\n",
            "Requirement already satisfied: cycler>=0.10 in /usr/local/lib/python3.12/dist-packages (from matplotlib) (0.12.1)\n",
            "Requirement already satisfied: fonttools>=4.22.0 in /usr/local/lib/python3.12/dist-packages (from matplotlib) (4.60.1)\n",
            "Requirement already satisfied: kiwisolver>=1.3.1 in /usr/local/lib/python3.12/dist-packages (from matplotlib) (1.4.9)\n",
            "Requirement already satisfied: numpy>=1.23 in /usr/local/lib/python3.12/dist-packages (from matplotlib) (2.0.2)\n",
            "Requirement already satisfied: packaging>=20.0 in /usr/local/lib/python3.12/dist-packages (from matplotlib) (25.0)\n",
            "Requirement already satisfied: pillow>=8 in /usr/local/lib/python3.12/dist-packages (from matplotlib) (11.3.0)\n",
            "Requirement already satisfied: pyparsing>=2.3.1 in /usr/local/lib/python3.12/dist-packages (from matplotlib) (3.2.5)\n",
            "Requirement already satisfied: python-dateutil>=2.7 in /usr/local/lib/python3.12/dist-packages (from matplotlib) (2.9.0.post0)\n",
            "Requirement already satisfied: six>=1.5 in /usr/local/lib/python3.12/dist-packages (from python-dateutil>=2.7->matplotlib) (1.17.0)\n",
            "Requirement already satisfied: pandas in /usr/local/lib/python3.12/dist-packages (2.2.2)\n",
            "Requirement already satisfied: numpy>=1.26.0 in /usr/local/lib/python3.12/dist-packages (from pandas) (2.0.2)\n",
            "Requirement already satisfied: python-dateutil>=2.8.2 in /usr/local/lib/python3.12/dist-packages (from pandas) (2.9.0.post0)\n",
            "Requirement already satisfied: pytz>=2020.1 in /usr/local/lib/python3.12/dist-packages (from pandas) (2025.2)\n",
            "Requirement already satisfied: tzdata>=2022.7 in /usr/local/lib/python3.12/dist-packages (from pandas) (2025.2)\n",
            "Requirement already satisfied: six>=1.5 in /usr/local/lib/python3.12/dist-packages (from python-dateutil>=2.8.2->pandas) (1.17.0)\n",
            "\u001b[31mERROR: Could not find a version that satisfies the requirement math (from versions: none)\u001b[0m\u001b[31m\n",
            "\u001b[0m\u001b[31mERROR: No matching distribution found for math\u001b[0m\u001b[31m\n",
            "\u001b[0m"
          ]
        }
      ],
      "source": [
        "!pip install numpy\n",
        "!pip install matplotlib\n",
        "!pip install pandas\n",
        "!pip install math"
      ]
    },
    {
      "cell_type": "markdown",
      "source": [
        "## Importando bibliotecas"
      ],
      "metadata": {
        "id": "8mYEfH1uzc6z"
      }
    },
    {
      "cell_type": "code",
      "source": [
        "import numpy as np\n",
        "import matplotlib.pyplot as plt\n",
        "import pandas as pd\n",
        "import math\n"
      ],
      "metadata": {
        "id": "sJLX28yfzTyo"
      },
      "execution_count": 6,
      "outputs": []
    },
    {
      "cell_type": "markdown",
      "source": [
        "# Questão 1\n",
        "Dado $𝑓: \\mathbb{𝑅} → \\mathbb{𝑅}$ procura-se 𝑟 tal que 𝑓(𝑟) = 0. Para isso foram aplicados métodos iterativos que produzem uma sequência $(x_k)$ que, idealmente, converge para 𝑟. Adota-se como critérios de parada: $$|x_{k+1} - x_k| < ϵ, ou$$ $$|f(x_{k+1})| < τ$$\n",
        "com $ϵ = \\tau = 10^{-5}$."
      ],
      "metadata": {
        "id": "KHwg2H80FB5A"
      }
    },
    {
      "cell_type": "markdown",
      "source": [
        "## b) Constantes"
      ],
      "metadata": {
        "id": "m8tKDfCj3daC"
      }
    },
    {
      "cell_type": "code",
      "source": [
        "epslon = 10**(-5)\n",
        "tau = 10**(-5)\n",
        "max_iteracoes = 200"
      ],
      "metadata": {
        "id": "BHFiZYtJ3e51"
      },
      "execution_count": null,
      "outputs": []
    },
    {
      "cell_type": "markdown",
      "source": [
        "## Definindo a função $$f(x) = cos(x) + \\frac{1}{1+e^{-2x}}$$ e sua derivada $$f'(x) = -sen(x) + \\frac{2e^{-2x}}{(1+e^{-2x})^2}$$"
      ],
      "metadata": {
        "id": "p2f1oQE2zqap"
      }
    },
    {
      "cell_type": "code",
      "source": [
        "def f(x):\n",
        "  '''\n",
        "  Função da questão 1\n",
        "  '''\n",
        "  return math.cos(x)+1.0/(1.0+np.exp(-2.0*x))"
      ],
      "metadata": {
        "id": "I6_EF_wIztnv"
      },
      "execution_count": null,
      "outputs": []
    },
    {
      "cell_type": "code",
      "source": [
        "def derivada_f(x):\n",
        "  '''\n",
        "  Derivada da função acima para método do ponto falso\n",
        "  '''\n",
        "  return -math.sin(x)+(2.0*np.exp(-2.0*x))/((1.0+np.exp(-2.0*x)))**2"
      ],
      "metadata": {
        "id": "nLB6hYkk0m_d"
      },
      "execution_count": null,
      "outputs": []
    },
    {
      "cell_type": "markdown",
      "source": [
        "## Função para método do ponto fixo $$ϕ(x) = arccos(- \\frac{1}{1 + e^{-2x}})$$"
      ],
      "metadata": {
        "id": "Zh30UseD1nya"
      }
    },
    {
      "cell_type": "code",
      "source": [
        "def phi(x):\n",
        "  '''\n",
        "  Função do método do ponto fixo\n",
        "  '''\n",
        "  val = -1.0/(1.0 + math.exp(-2.0*x))\n",
        "  val = max(-1.0, min(1.0, val))\n",
        "  return math.acos(val)"
      ],
      "metadata": {
        "id": "psm43Vfg1Mii"
      },
      "execution_count": null,
      "outputs": []
    },
    {
      "cell_type": "markdown",
      "source": [
        "## Método da bissecção\n",
        "\n",
        "Pelo teorema do valor intermediário:\n",
        "\n",
        "Se 𝑓 é contínua em [𝑎, 𝑏] e $𝑓(𝑎) \\cdot 𝑓(𝑏) < 0$ então $$\\exists r \\in (𝑎, 𝑏) | f(r) = 0$$\n",
        "\n",
        "A bissecção define $𝑐 = \\frac{𝑎 + 𝑏}{2}$ e substitui o extremo cuja imagem tem o mesmo sinal de 𝑓(𝑐).\n",
        "\n",
        "Após 𝑛 iterações o comprimento do intervalo é $\\frac{𝑏 − 𝑎}{2^n}$. Para um erro absoluto menor que $ϵ$, ou seja, $|x_n - r| \\leq \\frac {b - a}{2^{n+1}}$:\n",
        "$$𝑛 \\geq ⌈\\frac{log_2(𝑏 − 𝑎)}{𝜀}⌉$$\n",
        "\n",
        "Portanto a convergência é linear (taxa de $\\frac{1}{2}$ por iteração no comprimento do intervalo)."
      ],
      "metadata": {
        "id": "vS5blAOJ3bIB"
      }
    },
    {
      "cell_type": "code",
      "source": [
        "def bisseccao(a,b):\n",
        "  '''\n",
        "  Aplicação do método da bissecção\n",
        "  '''\n",
        "  fa, fb = f(a), f(b)\n",
        "  iteracoes = 0\n",
        "  while (b-a)/2.0 > epslon and iteracoes < max_iteracoes:\n",
        "      c = (a+b)/2.0\n",
        "      fc = f(c)\n",
        "      if fc == 0 or (b-a)/2.0 < epslon:\n",
        "          return c, fc, iteracoes+1\n",
        "      iteracoes += 1\n",
        "      if fa * fc < 0:\n",
        "          b = c\n",
        "          fb = fc\n",
        "      else:\n",
        "          a = c\n",
        "          fa = fc\n",
        "  c = (a+b)/2.0\n",
        "  return c, f(c), iteracoes"
      ],
      "metadata": {
        "id": "5L9VW0-i4R1B"
      },
      "execution_count": null,
      "outputs": []
    },
    {
      "cell_type": "markdown",
      "source": [
        "## Método da posição falsa\n",
        "\n",
        "Usa-se um ponto de interseção da reta que liga (𝑎, 𝑓(𝑎)) e (𝑏, 𝑓(𝑏)) com o eixo 𝑥:$$x = \\frac{a \\cdot f(b) - b \\cdot f(a)}{f(b) - f(a)}$$\n",
        "\n",
        "Substitui-se um dos extremos (aquele que possuir um sinal igual à nova aproximação) de forma similar à bissecção. Para a convergência também é necessário que 𝑓 seja contínua."
      ],
      "metadata": {
        "id": "ZRGg3mzU5Fkp"
      }
    },
    {
      "cell_type": "code",
      "source": [
        "def pos_falsa(a,b):\n",
        "  '''\n",
        "  Aplicação do método da posição falsa\n",
        "  '''\n",
        "  fa, fb = f(a), f(b)\n",
        "  iteracoes = 0\n",
        "  x_old = a\n",
        "  while iteracoes < max_iteracoes:\n",
        "      x = (a*fb - b*fa)/(fb - fa)\n",
        "      fx = f(x)\n",
        "      iteracoes += 1\n",
        "      if abs(fx) < epslon or abs(x - x_old) < epslon:\n",
        "          return x, fx, iteracoes\n",
        "      x_old = x\n",
        "      if fa * fx < 0:\n",
        "          b = x\n",
        "          fb = fx\n",
        "      else:\n",
        "          a = x\n",
        "          fa = fx\n",
        "  return x, fx, iteracoes"
      ],
      "metadata": {
        "id": "mcjytmLP5H-j"
      },
      "execution_count": null,
      "outputs": []
    },
    {
      "cell_type": "markdown",
      "source": [
        "## Aplicação do método do método do ponto fixo\n",
        "\n",
        "Pelo teorema da convergência do método do ponto fixo, seja I um intervalo que contem um ponto fixo ξ de ϕ. Se vale que:\n",
        "\n",
        "i) ϕ e a sua derivada ϕ' são funçõoes continuas em I;\n",
        "\n",
        "ii) $\\exists M > 0$ tal que $|ϕ'(x)| ≤ M < 1, \\forall x \\in I$;\n",
        "\n",
        "iii) $x_0 \\in I$;\n",
        "\n",
        "então a sequência $\\{x_k\\}$ gerada de ϕ (ou seja com $x_{k+1} = ϕ(x_k)$)\n",
        "converge ao ponto fixo ξ, em que $(\\lim \\limits_{k \\to ∞}{x_k} = ξ)$.\n",
        "\n",
        "Deve-se transformar 𝑓(𝑥) = 0 em 𝑥 = 𝜑(𝑥). Para garantir convergência localmente, basta ter ∣𝜑′(𝑥)∣ < 1 próximo da raiz. Portanto, ao propor\n",
        "𝜑, deve-se checar a derivada. Para essa função f, propõe-se $$𝜑(𝑥) = arccos(- \\frac{1}{1 +𝑒^{−2𝑥}})$$\n",
        "\n",
        "Definindo $𝑢(𝑥) = \\frac{−1}{1 + 𝑒^{−2𝑥}} \\in (-1,0) \\implies φ(x)=arccos(u(x))$.\n",
        "\n",
        "Derivando: $$𝑢(𝑥) = −(1+𝑒^{−2𝑥})^{−1}$$\n",
        "$$u'(x) = - \\frac{2e^{-2x}}{(1 + e^{-2x})^2}$$\n",
        "\n",
        "$\\frac{𝑑}{𝑑𝑥} arccos(𝑢) = \\frac {−𝑢′}{\\sqrt{1 − 𝑢^2}}$. Assim $$𝜑′(𝑥) = \\frac{2𝑒^{−2𝑥}}{(1+𝑒^{−2𝑥})^2 \\cdot \\sqrt {1 − 𝑢^2(𝑥)}}$$\n",
        "\n",
        "Para que $∣𝜑′(𝑥)∣$ próximo da raiz (nesse caso: 𝑥 ≈ 𝜋) mostra-se que $∣𝜑′(𝜋)∣ \\ll 1$ (valor da ordem de $10^{−2}$ — ver cálculo numérico no código). Com isso, verifica-se que a escolha de 𝜑 é aceitável localmente e a convergência é linear com fator 𝐿 = max∣𝜑′∣ próximo da raiz.\n",
        "\n",
        "OBS: Como 𝑢(𝑥) está muito próximo de −1 para 𝑥 grande, o termo $\\sqrt{1 − 𝑢^2}$ pode ficar pequeno, então é necessário para evitar erros por aproximação de pontos flutuantes em python, cortar os valores fora de [-1, 1] para evitar erros de domínio do arccos."
      ],
      "metadata": {
        "id": "zdpw-_VL5od0"
      }
    },
    {
      "cell_type": "code",
      "source": [
        "def ponto_fixo(x0):\n",
        "    iteracoes = 0\n",
        "    x = x0\n",
        "    while iteracoes < max_iteracoes:\n",
        "        x_novo = phi(x)\n",
        "        iteracoes += 1\n",
        "        if np.abs(x_novo - x) < epslon or np.abs(x_novo) < tau:\n",
        "            return x_novo, f(x_novo), iteracoes\n",
        "        x = x_novo\n",
        "    return x, f(x), iteracoes"
      ],
      "metadata": {
        "id": "BQHEy1Gd5vY8"
      },
      "execution_count": null,
      "outputs": []
    },
    {
      "cell_type": "markdown",
      "source": [
        "## Método de Newton\n",
        "\n",
        "Partindo da expansão de Taylor em torno de $𝑥_𝑘$: $$𝑓(𝑥_{𝑘 + 1}) ≈ 𝑓(𝑥_𝑘) + 𝑓′(𝑥_𝑘) \\cdot (𝑥_{𝑘 + 1} − 𝑥_𝑘) + \\frac{𝑓′′(𝜉)}{2} \\cdot (𝑥_{𝑘 + 1} - 𝑥_𝑘)^2$$\n",
        "\n",
        "Para tentar zerar 𝑓, coloca-se o termo linear igual a $−𝑓(𝑥_𝑘)$, obtendo: $$𝑥_{𝑘 + 1} = 𝑥_𝑘 − \\frac{𝑓(𝑥_𝑘)}{f'(𝑥_𝑘)}$$\n",
        "\n",
        "Pelo teorema da convergência do método de Newton, seja $𝑓 \\in 𝐶^2$ (duas vezes continuamente diferenciável em um intervalo I que contém a raíz 𝜉), se $𝑓′(𝜉) \\neq 0$ então existe um subintervalo $I' ⊆ I$ que contém 𝜉, tal que a sequência $\\{x_k\\}$ gerada pelo método converge a 𝜉 pelo menos quadraticamente $\\forall x_0 \\in I'$: $$|x_{𝑘 + 1} − 𝑟∣ ≈ 𝐶 \\cdot ∣𝑥_𝑘 − 𝜉∣^2, 𝐶 = \\frac{∣𝑓′′(𝜉)∣}{2∣𝑓′(𝜉)∣}$$"
      ],
      "metadata": {
        "id": "Os3oaCln6Dwb"
      }
    },
    {
      "cell_type": "code",
      "source": [
        "def newton(x0):\n",
        "    iteracoes = 0\n",
        "    x = x0\n",
        "    while iteracoes < max_iteracoes:\n",
        "        d = derivada_f(x)\n",
        "        if np.abs(d) < 1e-12:\n",
        "            break\n",
        "        x_novo = x - f(x)/d\n",
        "        iteracoes += 1\n",
        "        if abs(x_novo - x) < epslon:\n",
        "            return x_novo, f(x_novo), iteracoes\n",
        "        x = x_novo\n",
        "    return x, f(x), iteracoes"
      ],
      "metadata": {
        "id": "qijM9CpF6FzT"
      },
      "execution_count": null,
      "outputs": []
    },
    {
      "cell_type": "markdown",
      "source": [
        "## Método da Secante\n",
        "\n",
        "Nesse método, é aplicado o método de Newton, porém aproxima-se a derivada pela diferença finita entre $𝑥_{𝑘 − 1}$ e $𝑥_𝑘$:\n",
        "$$f'(x_k) ≈ \\frac {f(x_k) - f(x_{k-1})}{x_k - x_{k-1}}$$\n",
        "\n",
        "$$𝑥_{𝑘 + 1} = 𝑥_𝑘 − 𝑓(𝑥_𝑘) \\cdot \\frac {𝑥_𝑘 − 𝑥_{𝑘 − 1}}{𝑓(𝑥_𝑘) − 𝑓(𝑥_{𝑘 − 1})}$$\n",
        "\n",
        "Pelo teorema da convergência do método da secante, sejam f e sua derivada f' contínuas num intervalo I que contém a raiz ξ de f. Se $f'(ξ) \\neq 0$ e $x_0, x_1$ suficientemente próximos de ξ, então a sequência ${x_k}$ produzida pelo método converge pelo menos linearmente para ξ. Além disso, tem-se $$\\lim \\limits_{k \\to ∞} \\frac{|x_{k+1} − ξ|}{|x_k - ξ|^p} = c$$\n",
        "\n",
        "Com 0 < c e $p = \\frac{(1 + √5)}{2}$.\n",
        "Ordem de convergência superlinear com ordem p ≈ 1.618 (proporção áurea)"
      ],
      "metadata": {
        "id": "vb8L0AJG6XZ_"
      }
    },
    {
      "cell_type": "code",
      "source": [
        "def secante(x0,x1):\n",
        "    iteracoes=0\n",
        "    x_ant = x0\n",
        "    x = x1\n",
        "    while iteracoes < max_iteracoes:\n",
        "        f_ant = f(x_ant)\n",
        "        fx = f(x)\n",
        "        if np.abs(fx - f_ant) < 1e-14:\n",
        "            break\n",
        "        x_novo = x - fx*(x - x_ant)/(fx - f_ant)\n",
        "        iteracoes += 1\n",
        "        if abs(x_novo - x) < epslon:\n",
        "            return x_novo, f(x_novo), iteracoes\n",
        "        x_ant, x = x, x_novo\n",
        "    return x, f(x), iteracoes"
      ],
      "metadata": {
        "id": "GZdoLrfO6ZY2"
      },
      "execution_count": null,
      "outputs": []
    },
    {
      "cell_type": "markdown",
      "source": [
        "## Primeiro iremos achar os possíveis intervalos que possam conter a menor raíz positiva"
      ],
      "metadata": {
        "id": "CTRrHKer7CJs"
      }
    },
    {
      "cell_type": "code",
      "source": [
        "intervalos_possiveis = np.linspace(0, 5, 10001)\n",
        "fs = [f(xx) for xx in intervalos_possiveis]\n",
        "# Achando a mudança de sinal\n",
        "mudanca_sinais = []\n",
        "for i in range(len(intervalos_possiveis)-1):\n",
        "    if fs[i] == 0 or fs[i]*fs[i+1] < 0:\n",
        "        mudanca_sinais.append((intervalos_possiveis[i], intervalos_possiveis[i+1]))\n",
        "\n",
        "mudanca_sinais"
      ],
      "metadata": {
        "colab": {
          "base_uri": "https://localhost:8080/"
        },
        "id": "K9b0fRlN7BXk",
        "outputId": "6b074cbe-4981-4e96-bfd2-d913c85ad353"
      },
      "execution_count": null,
      "outputs": [
        {
          "output_type": "execute_result",
          "data": {
            "text/plain": [
              "[(np.float64(3.076), np.float64(3.0765000000000002)),\n",
              " (np.float64(3.1990000000000003), np.float64(3.1995))]"
            ]
          },
          "metadata": {},
          "execution_count": 46
        }
      ]
    },
    {
      "cell_type": "markdown",
      "source": [
        "## Como queremos a menor raíz positiva, busca-se o primeiro índice da mudança de sinais"
      ],
      "metadata": {
        "id": "78R71TQc79c2"
      }
    },
    {
      "cell_type": "code",
      "source": [
        "intervalo = mudanca_sinais[0]\n",
        "a,b = intervalo\n",
        "intervalo"
      ],
      "metadata": {
        "colab": {
          "base_uri": "https://localhost:8080/"
        },
        "id": "MUEBWegi8Upx",
        "outputId": "f40b0cbe-f131-4bb6-c96c-5c698c46e87e"
      },
      "execution_count": null,
      "outputs": [
        {
          "output_type": "execute_result",
          "data": {
            "text/plain": [
              "(np.float64(3.076), np.float64(3.0765000000000002))"
            ]
          },
          "metadata": {},
          "execution_count": 47
        }
      ]
    },
    {
      "cell_type": "markdown",
      "source": [
        "## Aplicando os métodos"
      ],
      "metadata": {
        "id": "MsRvmNTq80OV"
      }
    },
    {
      "cell_type": "code",
      "source": [
        "raiz_biss, fval_biss, iteracoes_b = bisseccao(a,b)\n",
        "raiz_pto_falso, fval_pto_falso, iteracoes_pto_falso = pos_falsa(a,b)\n",
        "# Chute inicial do ponto fixo escolhido no ponto médio do intervalo\n",
        "meio = (a+b)/2.0\n",
        "raiz_pto_fixo, fval_pto_fixo, iteracoes_pto_fixo = ponto_fixo(meio)\n",
        "raiz_newton, fval_newton, iteracoes_newton = newton(meio)\n",
        "raiz_sec, fval_sec, iteracoes_sec = secante(a,b)\n",
        "\n",
        "resultados_q1 = {\n",
        "    \"Método\": [\"Bissecção\",\"Posição Falsa\",\"Ponto Fixo\",\"Newton\",\"Secante\"],\n",
        "    \"ϕ ou f'\":[\"- - -\", \"- - -\", \"ϕ(x) = arccos(-1/(1 + e^(-2x)))\", \"f'(x) = -sen(x) + 2*e^(-2x)/(1 + e^(-2x))²\", \"- - -\"],\n",
        "    \"Chutes Iniciais\": [f\"[{a:.6f}, {b:.6f}]\", f\"[{a:.6f}, {b:.6f}]\", f\"x0 = {meio:.6f}\", f\"x0 = {meio:.6f}\", f\"x0, x1 = ({a:.6f}, {b:.6f})\"],\n",
        "    \"Raíz Aproximada x~\": [raiz_biss, raiz_pto_falso, raiz_pto_fixo, raiz_newton, raiz_sec],\n",
        "    \"f(x~)\": [fval_biss, fval_pto_falso, fval_pto_fixo, fval_newton, fval_sec],\n",
        "    \"Erro majorante (est.)\": [ (b-a)/2.0, abs(raiz_pto_falso - raiz_biss), abs(raiz_pto_fixo - raiz_biss), abs(raiz_newton - raiz_biss), abs(raiz_sec - raiz_biss)],\n",
        "    \"Iterações\": [iteracoes_b, iteracoes_pto_falso, iteracoes_pto_fixo, iteracoes_newton, iteracoes_sec]\n",
        "}\n",
        "\n",
        "df_q1 = pd.DataFrame(resultados_q1)\n",
        "df_q1"
      ],
      "metadata": {
        "colab": {
          "base_uri": "https://localhost:8080/",
          "height": 206
        },
        "id": "tCNCv5_S817H",
        "outputId": "67c59fb5-063b-4273-ce04-5f36833257f3"
      },
      "execution_count": null,
      "outputs": [
        {
          "output_type": "execute_result",
          "data": {
            "text/plain": [
              "          Método                                     ϕ ou f'  \\\n",
              "0      Bissecção                                       - - -   \n",
              "1  Posição Falsa                                       - - -   \n",
              "2     Ponto Fixo             ϕ(x) = arccos(-1/(1 + e^(-2x)))   \n",
              "3         Newton  f'(x) = -sen(x) + 2*e^(-2x)/(1 + e^(-2x))²   \n",
              "4        Secante                                       - - -   \n",
              "\n",
              "                 Chutes Iniciais  Raíz Aproximada x~         f(x~)  \\\n",
              "0           [3.076000, 3.076500]            3.076414  4.324124e-07   \n",
              "1           [3.076000, 3.076500]            3.076421 -1.638041e-08   \n",
              "2                  x0 = 3.076250            3.076421  2.869807e-09   \n",
              "3                  x0 = 3.076250            3.076421  2.786660e-14   \n",
              "4  x0, x1 = (3.076000, 3.076500)            3.076421  1.049916e-11   \n",
              "\n",
              "   Erro majorante (est.)  Iterações  \n",
              "0               0.000250          5  \n",
              "1               0.000007          1  \n",
              "2               0.000007          3  \n",
              "3               0.000007          2  \n",
              "4               0.000007          2  "
            ],
            "text/html": [
              "\n",
              "  <div id=\"df-d298757f-fa80-4b3f-abdb-8a687fe064d2\" class=\"colab-df-container\">\n",
              "    <div>\n",
              "<style scoped>\n",
              "    .dataframe tbody tr th:only-of-type {\n",
              "        vertical-align: middle;\n",
              "    }\n",
              "\n",
              "    .dataframe tbody tr th {\n",
              "        vertical-align: top;\n",
              "    }\n",
              "\n",
              "    .dataframe thead th {\n",
              "        text-align: right;\n",
              "    }\n",
              "</style>\n",
              "<table border=\"1\" class=\"dataframe\">\n",
              "  <thead>\n",
              "    <tr style=\"text-align: right;\">\n",
              "      <th></th>\n",
              "      <th>Método</th>\n",
              "      <th>ϕ ou f'</th>\n",
              "      <th>Chutes Iniciais</th>\n",
              "      <th>Raíz Aproximada x~</th>\n",
              "      <th>f(x~)</th>\n",
              "      <th>Erro majorante (est.)</th>\n",
              "      <th>Iterações</th>\n",
              "    </tr>\n",
              "  </thead>\n",
              "  <tbody>\n",
              "    <tr>\n",
              "      <th>0</th>\n",
              "      <td>Bissecção</td>\n",
              "      <td>- - -</td>\n",
              "      <td>[3.076000, 3.076500]</td>\n",
              "      <td>3.076414</td>\n",
              "      <td>4.324124e-07</td>\n",
              "      <td>0.000250</td>\n",
              "      <td>5</td>\n",
              "    </tr>\n",
              "    <tr>\n",
              "      <th>1</th>\n",
              "      <td>Posição Falsa</td>\n",
              "      <td>- - -</td>\n",
              "      <td>[3.076000, 3.076500]</td>\n",
              "      <td>3.076421</td>\n",
              "      <td>-1.638041e-08</td>\n",
              "      <td>0.000007</td>\n",
              "      <td>1</td>\n",
              "    </tr>\n",
              "    <tr>\n",
              "      <th>2</th>\n",
              "      <td>Ponto Fixo</td>\n",
              "      <td>ϕ(x) = arccos(-1/(1 + e^(-2x)))</td>\n",
              "      <td>x0 = 3.076250</td>\n",
              "      <td>3.076421</td>\n",
              "      <td>2.869807e-09</td>\n",
              "      <td>0.000007</td>\n",
              "      <td>3</td>\n",
              "    </tr>\n",
              "    <tr>\n",
              "      <th>3</th>\n",
              "      <td>Newton</td>\n",
              "      <td>f'(x) = -sen(x) + 2*e^(-2x)/(1 + e^(-2x))²</td>\n",
              "      <td>x0 = 3.076250</td>\n",
              "      <td>3.076421</td>\n",
              "      <td>2.786660e-14</td>\n",
              "      <td>0.000007</td>\n",
              "      <td>2</td>\n",
              "    </tr>\n",
              "    <tr>\n",
              "      <th>4</th>\n",
              "      <td>Secante</td>\n",
              "      <td>- - -</td>\n",
              "      <td>x0, x1 = (3.076000, 3.076500)</td>\n",
              "      <td>3.076421</td>\n",
              "      <td>1.049916e-11</td>\n",
              "      <td>0.000007</td>\n",
              "      <td>2</td>\n",
              "    </tr>\n",
              "  </tbody>\n",
              "</table>\n",
              "</div>\n",
              "    <div class=\"colab-df-buttons\">\n",
              "\n",
              "  <div class=\"colab-df-container\">\n",
              "    <button class=\"colab-df-convert\" onclick=\"convertToInteractive('df-d298757f-fa80-4b3f-abdb-8a687fe064d2')\"\n",
              "            title=\"Convert this dataframe to an interactive table.\"\n",
              "            style=\"display:none;\">\n",
              "\n",
              "  <svg xmlns=\"http://www.w3.org/2000/svg\" height=\"24px\" viewBox=\"0 -960 960 960\">\n",
              "    <path d=\"M120-120v-720h720v720H120Zm60-500h600v-160H180v160Zm220 220h160v-160H400v160Zm0 220h160v-160H400v160ZM180-400h160v-160H180v160Zm440 0h160v-160H620v160ZM180-180h160v-160H180v160Zm440 0h160v-160H620v160Z\"/>\n",
              "  </svg>\n",
              "    </button>\n",
              "\n",
              "  <style>\n",
              "    .colab-df-container {\n",
              "      display:flex;\n",
              "      gap: 12px;\n",
              "    }\n",
              "\n",
              "    .colab-df-convert {\n",
              "      background-color: #E8F0FE;\n",
              "      border: none;\n",
              "      border-radius: 50%;\n",
              "      cursor: pointer;\n",
              "      display: none;\n",
              "      fill: #1967D2;\n",
              "      height: 32px;\n",
              "      padding: 0 0 0 0;\n",
              "      width: 32px;\n",
              "    }\n",
              "\n",
              "    .colab-df-convert:hover {\n",
              "      background-color: #E2EBFA;\n",
              "      box-shadow: 0px 1px 2px rgba(60, 64, 67, 0.3), 0px 1px 3px 1px rgba(60, 64, 67, 0.15);\n",
              "      fill: #174EA6;\n",
              "    }\n",
              "\n",
              "    .colab-df-buttons div {\n",
              "      margin-bottom: 4px;\n",
              "    }\n",
              "\n",
              "    [theme=dark] .colab-df-convert {\n",
              "      background-color: #3B4455;\n",
              "      fill: #D2E3FC;\n",
              "    }\n",
              "\n",
              "    [theme=dark] .colab-df-convert:hover {\n",
              "      background-color: #434B5C;\n",
              "      box-shadow: 0px 1px 3px 1px rgba(0, 0, 0, 0.15);\n",
              "      filter: drop-shadow(0px 1px 2px rgba(0, 0, 0, 0.3));\n",
              "      fill: #FFFFFF;\n",
              "    }\n",
              "  </style>\n",
              "\n",
              "    <script>\n",
              "      const buttonEl =\n",
              "        document.querySelector('#df-d298757f-fa80-4b3f-abdb-8a687fe064d2 button.colab-df-convert');\n",
              "      buttonEl.style.display =\n",
              "        google.colab.kernel.accessAllowed ? 'block' : 'none';\n",
              "\n",
              "      async function convertToInteractive(key) {\n",
              "        const element = document.querySelector('#df-d298757f-fa80-4b3f-abdb-8a687fe064d2');\n",
              "        const dataTable =\n",
              "          await google.colab.kernel.invokeFunction('convertToInteractive',\n",
              "                                                    [key], {});\n",
              "        if (!dataTable) return;\n",
              "\n",
              "        const docLinkHtml = 'Like what you see? Visit the ' +\n",
              "          '<a target=\"_blank\" href=https://colab.research.google.com/notebooks/data_table.ipynb>data table notebook</a>'\n",
              "          + ' to learn more about interactive tables.';\n",
              "        element.innerHTML = '';\n",
              "        dataTable['output_type'] = 'display_data';\n",
              "        await google.colab.output.renderOutput(dataTable, element);\n",
              "        const docLink = document.createElement('div');\n",
              "        docLink.innerHTML = docLinkHtml;\n",
              "        element.appendChild(docLink);\n",
              "      }\n",
              "    </script>\n",
              "  </div>\n",
              "\n",
              "\n",
              "    <div id=\"df-fd91758b-dfb5-4cd8-83cd-ab75ac042388\">\n",
              "      <button class=\"colab-df-quickchart\" onclick=\"quickchart('df-fd91758b-dfb5-4cd8-83cd-ab75ac042388')\"\n",
              "                title=\"Suggest charts\"\n",
              "                style=\"display:none;\">\n",
              "\n",
              "<svg xmlns=\"http://www.w3.org/2000/svg\" height=\"24px\"viewBox=\"0 0 24 24\"\n",
              "     width=\"24px\">\n",
              "    <g>\n",
              "        <path d=\"M19 3H5c-1.1 0-2 .9-2 2v14c0 1.1.9 2 2 2h14c1.1 0 2-.9 2-2V5c0-1.1-.9-2-2-2zM9 17H7v-7h2v7zm4 0h-2V7h2v10zm4 0h-2v-4h2v4z\"/>\n",
              "    </g>\n",
              "</svg>\n",
              "      </button>\n",
              "\n",
              "<style>\n",
              "  .colab-df-quickchart {\n",
              "      --bg-color: #E8F0FE;\n",
              "      --fill-color: #1967D2;\n",
              "      --hover-bg-color: #E2EBFA;\n",
              "      --hover-fill-color: #174EA6;\n",
              "      --disabled-fill-color: #AAA;\n",
              "      --disabled-bg-color: #DDD;\n",
              "  }\n",
              "\n",
              "  [theme=dark] .colab-df-quickchart {\n",
              "      --bg-color: #3B4455;\n",
              "      --fill-color: #D2E3FC;\n",
              "      --hover-bg-color: #434B5C;\n",
              "      --hover-fill-color: #FFFFFF;\n",
              "      --disabled-bg-color: #3B4455;\n",
              "      --disabled-fill-color: #666;\n",
              "  }\n",
              "\n",
              "  .colab-df-quickchart {\n",
              "    background-color: var(--bg-color);\n",
              "    border: none;\n",
              "    border-radius: 50%;\n",
              "    cursor: pointer;\n",
              "    display: none;\n",
              "    fill: var(--fill-color);\n",
              "    height: 32px;\n",
              "    padding: 0;\n",
              "    width: 32px;\n",
              "  }\n",
              "\n",
              "  .colab-df-quickchart:hover {\n",
              "    background-color: var(--hover-bg-color);\n",
              "    box-shadow: 0 1px 2px rgba(60, 64, 67, 0.3), 0 1px 3px 1px rgba(60, 64, 67, 0.15);\n",
              "    fill: var(--button-hover-fill-color);\n",
              "  }\n",
              "\n",
              "  .colab-df-quickchart-complete:disabled,\n",
              "  .colab-df-quickchart-complete:disabled:hover {\n",
              "    background-color: var(--disabled-bg-color);\n",
              "    fill: var(--disabled-fill-color);\n",
              "    box-shadow: none;\n",
              "  }\n",
              "\n",
              "  .colab-df-spinner {\n",
              "    border: 2px solid var(--fill-color);\n",
              "    border-color: transparent;\n",
              "    border-bottom-color: var(--fill-color);\n",
              "    animation:\n",
              "      spin 1s steps(1) infinite;\n",
              "  }\n",
              "\n",
              "  @keyframes spin {\n",
              "    0% {\n",
              "      border-color: transparent;\n",
              "      border-bottom-color: var(--fill-color);\n",
              "      border-left-color: var(--fill-color);\n",
              "    }\n",
              "    20% {\n",
              "      border-color: transparent;\n",
              "      border-left-color: var(--fill-color);\n",
              "      border-top-color: var(--fill-color);\n",
              "    }\n",
              "    30% {\n",
              "      border-color: transparent;\n",
              "      border-left-color: var(--fill-color);\n",
              "      border-top-color: var(--fill-color);\n",
              "      border-right-color: var(--fill-color);\n",
              "    }\n",
              "    40% {\n",
              "      border-color: transparent;\n",
              "      border-right-color: var(--fill-color);\n",
              "      border-top-color: var(--fill-color);\n",
              "    }\n",
              "    60% {\n",
              "      border-color: transparent;\n",
              "      border-right-color: var(--fill-color);\n",
              "    }\n",
              "    80% {\n",
              "      border-color: transparent;\n",
              "      border-right-color: var(--fill-color);\n",
              "      border-bottom-color: var(--fill-color);\n",
              "    }\n",
              "    90% {\n",
              "      border-color: transparent;\n",
              "      border-bottom-color: var(--fill-color);\n",
              "    }\n",
              "  }\n",
              "</style>\n",
              "\n",
              "      <script>\n",
              "        async function quickchart(key) {\n",
              "          const quickchartButtonEl =\n",
              "            document.querySelector('#' + key + ' button');\n",
              "          quickchartButtonEl.disabled = true;  // To prevent multiple clicks.\n",
              "          quickchartButtonEl.classList.add('colab-df-spinner');\n",
              "          try {\n",
              "            const charts = await google.colab.kernel.invokeFunction(\n",
              "                'suggestCharts', [key], {});\n",
              "          } catch (error) {\n",
              "            console.error('Error during call to suggestCharts:', error);\n",
              "          }\n",
              "          quickchartButtonEl.classList.remove('colab-df-spinner');\n",
              "          quickchartButtonEl.classList.add('colab-df-quickchart-complete');\n",
              "        }\n",
              "        (() => {\n",
              "          let quickchartButtonEl =\n",
              "            document.querySelector('#df-fd91758b-dfb5-4cd8-83cd-ab75ac042388 button');\n",
              "          quickchartButtonEl.style.display =\n",
              "            google.colab.kernel.accessAllowed ? 'block' : 'none';\n",
              "        })();\n",
              "      </script>\n",
              "    </div>\n",
              "\n",
              "  <div id=\"id_4b4415c2-e2e6-4d15-9bf0-a3f5f9854c9b\">\n",
              "    <style>\n",
              "      .colab-df-generate {\n",
              "        background-color: #E8F0FE;\n",
              "        border: none;\n",
              "        border-radius: 50%;\n",
              "        cursor: pointer;\n",
              "        display: none;\n",
              "        fill: #1967D2;\n",
              "        height: 32px;\n",
              "        padding: 0 0 0 0;\n",
              "        width: 32px;\n",
              "      }\n",
              "\n",
              "      .colab-df-generate:hover {\n",
              "        background-color: #E2EBFA;\n",
              "        box-shadow: 0px 1px 2px rgba(60, 64, 67, 0.3), 0px 1px 3px 1px rgba(60, 64, 67, 0.15);\n",
              "        fill: #174EA6;\n",
              "      }\n",
              "\n",
              "      [theme=dark] .colab-df-generate {\n",
              "        background-color: #3B4455;\n",
              "        fill: #D2E3FC;\n",
              "      }\n",
              "\n",
              "      [theme=dark] .colab-df-generate:hover {\n",
              "        background-color: #434B5C;\n",
              "        box-shadow: 0px 1px 3px 1px rgba(0, 0, 0, 0.15);\n",
              "        filter: drop-shadow(0px 1px 2px rgba(0, 0, 0, 0.3));\n",
              "        fill: #FFFFFF;\n",
              "      }\n",
              "    </style>\n",
              "    <button class=\"colab-df-generate\" onclick=\"generateWithVariable('df_q1')\"\n",
              "            title=\"Generate code using this dataframe.\"\n",
              "            style=\"display:none;\">\n",
              "\n",
              "  <svg xmlns=\"http://www.w3.org/2000/svg\" height=\"24px\"viewBox=\"0 0 24 24\"\n",
              "       width=\"24px\">\n",
              "    <path d=\"M7,19H8.4L18.45,9,17,7.55,7,17.6ZM5,21V16.75L18.45,3.32a2,2,0,0,1,2.83,0l1.4,1.43a1.91,1.91,0,0,1,.58,1.4,1.91,1.91,0,0,1-.58,1.4L9.25,21ZM18.45,9,17,7.55Zm-12,3A5.31,5.31,0,0,0,4.9,8.1,5.31,5.31,0,0,0,1,6.5,5.31,5.31,0,0,0,4.9,4.9,5.31,5.31,0,0,0,6.5,1,5.31,5.31,0,0,0,8.1,4.9,5.31,5.31,0,0,0,12,6.5,5.46,5.46,0,0,0,6.5,12Z\"/>\n",
              "  </svg>\n",
              "    </button>\n",
              "    <script>\n",
              "      (() => {\n",
              "      const buttonEl =\n",
              "        document.querySelector('#id_4b4415c2-e2e6-4d15-9bf0-a3f5f9854c9b button.colab-df-generate');\n",
              "      buttonEl.style.display =\n",
              "        google.colab.kernel.accessAllowed ? 'block' : 'none';\n",
              "\n",
              "      buttonEl.onclick = () => {\n",
              "        google.colab.notebook.generateWithVariable('df_q1');\n",
              "      }\n",
              "      })();\n",
              "    </script>\n",
              "  </div>\n",
              "\n",
              "    </div>\n",
              "  </div>\n"
            ],
            "application/vnd.google.colaboratory.intrinsic+json": {
              "type": "dataframe",
              "variable_name": "df_q1",
              "summary": "{\n  \"name\": \"df_q1\",\n  \"rows\": 5,\n  \"fields\": [\n    {\n      \"column\": \"M\\u00e9todo\",\n      \"properties\": {\n        \"dtype\": \"string\",\n        \"num_unique_values\": 5,\n        \"samples\": [\n          \"Posi\\u00e7\\u00e3o Falsa\",\n          \"Secante\",\n          \"Ponto Fixo\"\n        ],\n        \"semantic_type\": \"\",\n        \"description\": \"\"\n      }\n    },\n    {\n      \"column\": \"\\u03d5 ou f'\",\n      \"properties\": {\n        \"dtype\": \"string\",\n        \"num_unique_values\": 3,\n        \"samples\": [\n          \"- - -\",\n          \"\\u03d5(x) = arccos(-1/(1 + e^(-2x)))\",\n          \"f'(x) = -sen(x) + 2*e^(-2x)/(1 + e^(-2x))\\u00b2\"\n        ],\n        \"semantic_type\": \"\",\n        \"description\": \"\"\n      }\n    },\n    {\n      \"column\": \"Chutes Iniciais\",\n      \"properties\": {\n        \"dtype\": \"string\",\n        \"num_unique_values\": 3,\n        \"samples\": [\n          \"[3.076000, 3.076500]\",\n          \"x0 = 3.076250\",\n          \"x0, x1 = (3.076000, 3.076500)\"\n        ],\n        \"semantic_type\": \"\",\n        \"description\": \"\"\n      }\n    },\n    {\n      \"column\": \"Ra\\u00edz Aproximada x~\",\n      \"properties\": {\n        \"dtype\": \"number\",\n        \"std\": 3.2030159604403254e-06,\n        \"min\": 3.0764140624999996,\n        \"max\": 3.0764214328160717,\n        \"num_unique_values\": 5,\n        \"samples\": [\n          3.0764214328160717,\n          3.076421163620327,\n          3.0764211166606583\n        ],\n        \"semantic_type\": \"\",\n        \"description\": \"\"\n      }\n    },\n    {\n      \"column\": \"f(x~)\",\n      \"properties\": {\n        \"dtype\": \"number\",\n        \"std\": 1.9503817025396706e-07,\n        \"min\": -1.6380406031579753e-08,\n        \"max\": 4.3241243130598406e-07,\n        \"num_unique_values\": 5,\n        \"samples\": [\n          -1.6380406031579753e-08,\n          1.049915709927518e-11,\n          2.869806836613975e-09\n        ],\n        \"semantic_type\": \"\",\n        \"description\": \"\"\n      }\n    },\n    {\n      \"column\": \"Erro majorante (est.)\",\n      \"properties\": {\n        \"dtype\": \"number\",\n        \"std\": 0.00010860288705778901,\n        \"min\": 7.054160658714892e-06,\n        \"max\": 0.0002500000000000835,\n        \"num_unique_values\": 5,\n        \"samples\": [\n          7.370316072119465e-06,\n          7.101120327313026e-06,\n          7.054160658714892e-06\n        ],\n        \"semantic_type\": \"\",\n        \"description\": \"\"\n      }\n    },\n    {\n      \"column\": \"Itera\\u00e7\\u00f5es\",\n      \"properties\": {\n        \"dtype\": \"number\",\n        \"std\": 1,\n        \"min\": 1,\n        \"max\": 5,\n        \"num_unique_values\": 4,\n        \"samples\": [\n          1,\n          2,\n          5\n        ],\n        \"semantic_type\": \"\",\n        \"description\": \"\"\n      }\n    }\n  ]\n}"
            }
          },
          "metadata": {},
          "execution_count": 63
        }
      ]
    },
    {
      "cell_type": "markdown",
      "source": [
        "## a) Analisando graficamente a função f e as aproximações dos métodos aplicados acima"
      ],
      "metadata": {
        "id": "N9Jyjyr8Ah6F"
      }
    },
    {
      "cell_type": "code",
      "source": [
        "plt.figure(figsize=(8,4))\n",
        "xs_plot = np.linspace(0, 3, 1000)\n",
        "ys_plot = [f(xx) for xx in xs_plot]\n",
        "plt.axhline(0, color='k')\n",
        "plt.plot(xs_plot, ys_plot)\n",
        "plt.scatter([raiz_biss, raiz_pto_falso, raiz_pto_fixo, raiz_newton, raiz_sec],\n",
        "            [fval_biss, fval_pto_falso, fval_pto_fixo, fval_newton, fval_sec],\n",
        "            marker='x')\n",
        "labels = [\"Bissecção\", \"Posição Falsa\", \"Ponto Fixo\", \"Newton\", \"Secante\"]\n",
        "colors = [\"red\", \"orange\", \"green\", \"blue\", \"purple\"]\n",
        "\n",
        "for (x, y, label, c, i) in zip([raiz_biss, raiz_pto_falso, raiz_pto_fixo, raiz_newton, raiz_sec],\n",
        "                               [fval_biss, fval_pto_falso, fval_pto_fixo, fval_newton, fval_sec],\n",
        "                               labels, colors, range(len(labels))):\n",
        "    plt.scatter(x, y, color=c, label=label)\n",
        "    plt.text(x + 0.03, y +0.01 +0.08*i, label, color=c, fontsize=9)\n",
        "\n",
        "\n",
        "\n",
        "plt.title(\"f(x) = cos(x) + 1/(1+e^{-2x}) e aproximações\")\n",
        "plt.xlabel(\"x\")\n",
        "plt.ylabel(\"f(x)\")\n",
        "plt.grid(True)\n",
        "plt.tight_layout()\n",
        "plt.show()"
      ],
      "metadata": {
        "colab": {
          "base_uri": "https://localhost:8080/",
          "height": 407
        },
        "id": "8LfcZ7WSAjWF",
        "outputId": "cba6314b-a014-46f9-c0bb-0893196660ed"
      },
      "execution_count": null,
      "outputs": [
        {
          "output_type": "display_data",
          "data": {
            "text/plain": [
              "<Figure size 800x400 with 1 Axes>"
            ],
            "image/png": "[encoded data removed]"
          },
          "metadata": {}
        }
      ]
    },
    {
      "cell_type": "markdown",
      "source": [
        "# c) Comparação dos métodos\n",
        "\n",
        "* Bissecção: A convergência é garantida com estimação direta do erro $ϵ \\leq \\frac {(b - a)}{2^{n+1}} $, porém ela é muito lenta, percebe-se que houve o maior número de iterações, além de apresentar o maior dentre os erros majorantes (todos os outros apresentaram empate nesse critério)\n",
        "* Posição Falsa: Frequentemente mais rápida que bissecção e também possui convergência garantida, nesse caso foi a melhor aproximação pois houve apenas 1 iteração com o menor erro majorante, porém pode travar em alguns casos, quando um dos extremos fica fixo\n",
        "* Ponto Fixo: Depende totalmente da escolha da função $\\phi$, sendo necessário que $|\\phi '| < 1$ e não possui convergência garantida. Aqui foi a segunda pior apresentando 3 iterações.\n",
        "* Newton: Converge de forma quadrática localmente, o que a torna muito eficiente quando há uma boa aproximação inicial, porém não garante a convergência, pois pode divergir se $x_0$ for muito distante da raíz real ou se $|f'(x_k)|$ for muito pequeno. Nesse caso, como a aproximação inicial foi boa, ela apresentou empatado com a secante a segunda melhor convergência, com 2 iterações\n",
        "* Secante: Geralmente mais rápida que os métodos lineares, mas não garante convergência. É uma boa alternativa a Newton (ainda que mais lenta) quando 𝑓′ não é facilmente calculável, diminuindo o custo por iteração. Porém nesse caso, houve empate entre esse método e o de Newton, com 2 iterações"
      ],
      "metadata": {
        "id": "38IFJd8kYd6p"
      }
    },
    {
      "cell_type": "markdown",
      "source": [
        "# Questão 2\n",
        "\n",
        "No sistema de equações\n",
        "$$F =\\begin{pmatrix} 16 x^4 + 16 y^4 + z^4 - 16 \\\\ x^2 + y^2 + z^2 - 3 \\\\ x^3 - y \\end{pmatrix}$$\n",
        "\n",
        "a) A jacobiana é dada por $$J(x,y,z) = \\begin{pmatrix} \\frac{∂f_1}{∂x} & \\frac{∂f_1}{∂y} & \\frac{∂f_1}{∂z} \\\\ \\frac{∂f_2}{∂x} & \\frac{∂f_2}{∂y} & \\frac{∂f_2}{∂z}\\\\ \\frac{∂f_3}{∂x} & \\frac{∂f_3}{∂y} & \\frac{∂f_3}{∂z} \\end{pmatrix}$$\n",
        "\n",
        "Nesse caso será $$J(x,y,z) = \\begin{pmatrix} 64x^3 & 64y^3 & 4z^3 \\\\ 2x & 2y & 2z \\\\ 3x^2 & -1 & 0 \\end{pmatrix}$$"
      ],
      "metadata": {
        "id": "JcEG14c7e99S"
      }
    },
    {
      "cell_type": "code",
      "source": [
        "def F_vec(vec):\n",
        "  '''\n",
        "  Função que retorna o vetor F\n",
        "  '''\n",
        "  x,y,z = vec\n",
        "  return np.array([16*x**4 + 16*y**4 + z**4 - 16,\n",
        "                    x**2 + y**2 + z**2 - 3,\n",
        "                    x**3 - y])"
      ],
      "metadata": {
        "id": "SslleMEJnI1c"
      },
      "execution_count": 19,
      "outputs": []
    },
    {
      "cell_type": "code",
      "source": [
        "def J_mat(vec):\n",
        "  '''\n",
        "  Função que retorna a matriz jacobiana\n",
        "  '''\n",
        "  x,y,z = vec\n",
        "  # Jacobiana:\n",
        "  # [64 x^3, 64 y^3, 4 z^3]\n",
        "  # [2 x, 2 y, 2 z]\n",
        "  # [3 x^2, -1, 0]\n",
        "  return np.array([[64*x**3, 64*y**3, 4*z**3],\n",
        "                    [2*x, 2*y, 2*z],\n",
        "                    [3*x**2, -1, 0]])"
      ],
      "metadata": {
        "id": "Q28AOSInnTMp"
      },
      "execution_count": 24,
      "outputs": []
    },
    {
      "cell_type": "markdown",
      "source": [
        "## b) Transformando em um sistema linear de matrizes para aplicar um passo do método de Newton\n",
        "\n",
        "Se $𝐹: \\mathbb{𝑅}^𝑛 → \\mathbb{𝑅}^𝑛$ é tal que deve-se achar 𝐹(𝑥) = 0, a expansão de Taylor em torno de $𝑥^{(𝑘)}$ dá: $$𝐹(𝑥^{(𝑘)}+ Δx) = 𝐹(𝑥^{(𝑘)}) + 𝐽_𝐹(𝑥^{(𝑘)}) \\cdot Δx + 𝑂(∥ Δx∥^2)$$\n",
        "\n",
        "Em que 𝐽_𝐹 é a Jacobiana. Tomando a aproximação linear e impondo $𝐹(𝑥^{(𝑘)} +  Δx) ≈ 0$ obtém-se o sistema linear para o incremento  Δx: $$𝐽_𝐹(𝑥^{(𝑘)}) Δx = −𝐹(𝑥^{(𝑘)})$$\n",
        "\n",
        "Resolvendo para Δx: $$𝑥^{(𝑘+1)} = 𝑥^{(𝑘)} + Δx$$\n",
        "\n",
        "Pelo teorema da convergência do método de Newton, se $𝐹 \\in 𝐶^1$ (derivável uma vez), $𝐽_𝐹(𝑟)$ é invertível e $𝑥^{(0)}$ está suficientemente próximo de\n",
        "𝑟, então Newton para sistemas também converge quadraticamente.\n",
        "\n",
        "Nesse caso, a Jacobiana calculada analiticamente foi $$ 𝐽(𝑥, 𝑦, 𝑧) = \\begin{pmatrix} 64𝑥^3 & 64𝑦^3 & 4𝑧^3 \\\\ 2𝑥 & 2𝑦 & 2𝑧 \\\\ 3𝑥^2 & −1 & 0 \\end{pmatrix}$$\n",
        "\n",
        "Na implementação, a cada iteração resolve-se $$𝐽 \\cdot Δx = −𝐹$$"
      ],
      "metadata": {
        "id": "FfJq2H-voRI-"
      }
    },
    {
      "cell_type": "code",
      "source": [
        "tol = 1e-15\n",
        "max_iter = 50\n",
        "def newton_sistemas(x0):\n",
        "  '''\n",
        "  Função que implementa o método de Newton para sistemas\n",
        "  '''\n",
        "  x = np.array(x0, dtype=float)\n",
        "  historico = [x.copy()]\n",
        "  for k in range(max_iter):\n",
        "      J = J_mat(x)\n",
        "      Fv = F_vec(x)\n",
        "      try:\n",
        "          delta = np.linalg.solve(J, -Fv)\n",
        "      except np.linalg.LinAlgError:\n",
        "          break\n",
        "      x = x + delta\n",
        "      historico.append(x.copy())\n",
        "      if np.linalg.norm(delta, ord=2) < tol:\n",
        "          return x, F_vec(x), k+1, historico\n",
        "  return x, F_vec(x), len(historico)-1, historico"
      ],
      "metadata": {
        "id": "DVEDMrL4oOgm"
      },
      "execution_count": 50,
      "outputs": []
    },
    {
      "cell_type": "markdown",
      "source": [
        "## c) Usando o método para encontrar uma aproximação $\\tilde x$ da solução do sistema\n",
        "\n",
        "(i) Usando $(x_0, y_0, z_0) = (1, 1, 1)$ como aproximação inicial"
      ],
      "metadata": {
        "id": "rxr2lS_DtmsO"
      }
    },
    {
      "cell_type": "code",
      "source": [
        "x0 = [1, 1, 1]\n",
        "sol, Fsol, iteracoes_sistema, hist = newton_sistemas(x0)\n",
        "iteracoes_sistema"
      ],
      "metadata": {
        "colab": {
          "base_uri": "https://localhost:8080/"
        },
        "id": "WmOd3j8rtUpL",
        "outputId": "e4cb6045-189b-49fd-eeba-06a7f17d398c"
      },
      "execution_count": 52,
      "outputs": [
        {
          "output_type": "execute_result",
          "data": {
            "text/plain": [
              "7"
            ]
          },
          "metadata": {},
          "execution_count": 52
        }
      ]
    },
    {
      "cell_type": "markdown",
      "source": [
        "(ii) Percebe-se que o método de Newton apresentou convergência rápida e estável, atingindo a solução exata do sistema em apenas 7 iterações (com a tolerância do $ϵ$ da máquinda $10^{-15}$). Esse comportamento é consistente com a ordem de convergência quadrática esperada para sistemas suaves e bem condicionados, confirmando a eficiência do método e a boa escolha do ponto inicial."
      ],
      "metadata": {
        "id": "E1r8LkMyxqy-"
      }
    },
    {
      "cell_type": "code",
      "source": [
        "sol"
      ],
      "metadata": {
        "colab": {
          "base_uri": "https://localhost:8080/"
        },
        "id": "qrWdOBPXzYew",
        "outputId": "53470f88-c44f-43d9-a602-24dbf0e527b7"
      },
      "execution_count": 54,
      "outputs": [
        {
          "output_type": "execute_result",
          "data": {
            "text/plain": [
              "array([0.877965760274298 , 0.6767569705178287, 1.3308554116212266])"
            ]
          },
          "metadata": {},
          "execution_count": 54
        }
      ]
    },
    {
      "cell_type": "markdown",
      "source": [
        "(iii) A aproximação obtida após terminadas as iterações foi $(x,y,z) = (0.877965760274298, 0.6767569705178287, 1.3308554116212266)$"
      ],
      "metadata": {
        "id": "gxq6brdCy8qM"
      }
    },
    {
      "cell_type": "code",
      "source": [
        "Fsol"
      ],
      "metadata": {
        "colab": {
          "base_uri": "https://localhost:8080/"
        },
        "id": "zwkpGACHzp4u",
        "outputId": "244d24d9-e38d-4296-97d7-c627f3587de2"
      },
      "execution_count": 55,
      "outputs": [
        {
          "output_type": "execute_result",
          "data": {
            "text/plain": [
              "array([0., 0., 0.])"
            ]
          },
          "metadata": {},
          "execution_count": 55
        }
      ]
    },
    {
      "cell_type": "markdown",
      "source": [
        "(iv) Observa-se que o valor de F em $\\tilde x$ foi retornado como 0, o que mostra que provavelmente o valor é bem menor do que o $ϵ$ da máquina, fazendo com que seja interpretado como 0"
      ],
      "metadata": {
        "id": "fTz0ahqizrw9"
      }
    },
    {
      "cell_type": "code",
      "source": [
        "# Histórico das iterações e das suas respectivas aproximações\n",
        "hist_arr = np.array(hist)\n",
        "df_hist = pd.DataFrame(hist_arr, columns=[\"x\",\"y\",\"z\"])\n",
        "df_hist\n"
      ],
      "metadata": {
        "colab": {
          "base_uri": "https://localhost:8080/",
          "height": 300
        },
        "id": "tOtOTGLHuGN0",
        "outputId": "d6d0cf64-663c-43a6-8b33-5356229794d4"
      },
      "execution_count": 53,
      "outputs": [
        {
          "output_type": "execute_result",
          "data": {
            "text/plain": [
              "          x         y         z\n",
              "0  1.000000  1.000000  1.000000\n",
              "1  0.929167  0.787500  1.283333\n",
              "2  0.887075  0.693176  1.320865\n",
              "3  0.878244  0.677195  1.330610\n",
              "4  0.877966  0.676757  1.330855\n",
              "5  0.877966  0.676757  1.330855\n",
              "6  0.877966  0.676757  1.330855\n",
              "7  0.877966  0.676757  1.330855"
            ],
            "text/html": [
              "\n",
              "  <div id=\"df-5760162e-9da4-4bab-99fb-31b4854bd041\" class=\"colab-df-container\">\n",
              "    <div>\n",
              "<style scoped>\n",
              "    .dataframe tbody tr th:only-of-type {\n",
              "        vertical-align: middle;\n",
              "    }\n",
              "\n",
              "    .dataframe tbody tr th {\n",
              "        vertical-align: top;\n",
              "    }\n",
              "\n",
              "    .dataframe thead th {\n",
              "        text-align: right;\n",
              "    }\n",
              "</style>\n",
              "<table border=\"1\" class=\"dataframe\">\n",
              "  <thead>\n",
              "    <tr style=\"text-align: right;\">\n",
              "      <th></th>\n",
              "      <th>x</th>\n",
              "      <th>y</th>\n",
              "      <th>z</th>\n",
              "    </tr>\n",
              "  </thead>\n",
              "  <tbody>\n",
              "    <tr>\n",
              "      <th>0</th>\n",
              "      <td>1.000000</td>\n",
              "      <td>1.000000</td>\n",
              "      <td>1.000000</td>\n",
              "    </tr>\n",
              "    <tr>\n",
              "      <th>1</th>\n",
              "      <td>0.929167</td>\n",
              "      <td>0.787500</td>\n",
              "      <td>1.283333</td>\n",
              "    </tr>\n",
              "    <tr>\n",
              "      <th>2</th>\n",
              "      <td>0.887075</td>\n",
              "      <td>0.693176</td>\n",
              "      <td>1.320865</td>\n",
              "    </tr>\n",
              "    <tr>\n",
              "      <th>3</th>\n",
              "      <td>0.878244</td>\n",
              "      <td>0.677195</td>\n",
              "      <td>1.330610</td>\n",
              "    </tr>\n",
              "    <tr>\n",
              "      <th>4</th>\n",
              "      <td>0.877966</td>\n",
              "      <td>0.676757</td>\n",
              "      <td>1.330855</td>\n",
              "    </tr>\n",
              "    <tr>\n",
              "      <th>5</th>\n",
              "      <td>0.877966</td>\n",
              "      <td>0.676757</td>\n",
              "      <td>1.330855</td>\n",
              "    </tr>\n",
              "    <tr>\n",
              "      <th>6</th>\n",
              "      <td>0.877966</td>\n",
              "      <td>0.676757</td>\n",
              "      <td>1.330855</td>\n",
              "    </tr>\n",
              "    <tr>\n",
              "      <th>7</th>\n",
              "      <td>0.877966</td>\n",
              "      <td>0.676757</td>\n",
              "      <td>1.330855</td>\n",
              "    </tr>\n",
              "  </tbody>\n",
              "</table>\n",
              "</div>\n",
              "    <div class=\"colab-df-buttons\">\n",
              "\n",
              "  <div class=\"colab-df-container\">\n",
              "    <button class=\"colab-df-convert\" onclick=\"convertToInteractive('df-5760162e-9da4-4bab-99fb-31b4854bd041')\"\n",
              "            title=\"Convert this dataframe to an interactive table.\"\n",
              "            style=\"display:none;\">\n",
              "\n",
              "  <svg xmlns=\"http://www.w3.org/2000/svg\" height=\"24px\" viewBox=\"0 -960 960 960\">\n",
              "    <path d=\"M120-120v-720h720v720H120Zm60-500h600v-160H180v160Zm220 220h160v-160H400v160Zm0 220h160v-160H400v160ZM180-400h160v-160H180v160Zm440 0h160v-160H620v160ZM180-180h160v-160H180v160Zm440 0h160v-160H620v160Z\"/>\n",
              "  </svg>\n",
              "    </button>\n",
              "\n",
              "  <style>\n",
              "    .colab-df-container {\n",
              "      display:flex;\n",
              "      gap: 12px;\n",
              "    }\n",
              "\n",
              "    .colab-df-convert {\n",
              "      background-color: #E8F0FE;\n",
              "      border: none;\n",
              "      border-radius: 50%;\n",
              "      cursor: pointer;\n",
              "      display: none;\n",
              "      fill: #1967D2;\n",
              "      height: 32px;\n",
              "      padding: 0 0 0 0;\n",
              "      width: 32px;\n",
              "    }\n",
              "\n",
              "    .colab-df-convert:hover {\n",
              "      background-color: #E2EBFA;\n",
              "      box-shadow: 0px 1px 2px rgba(60, 64, 67, 0.3), 0px 1px 3px 1px rgba(60, 64, 67, 0.15);\n",
              "      fill: #174EA6;\n",
              "    }\n",
              "\n",
              "    .colab-df-buttons div {\n",
              "      margin-bottom: 4px;\n",
              "    }\n",
              "\n",
              "    [theme=dark] .colab-df-convert {\n",
              "      background-color: #3B4455;\n",
              "      fill: #D2E3FC;\n",
              "    }\n",
              "\n",
              "    [theme=dark] .colab-df-convert:hover {\n",
              "      background-color: #434B5C;\n",
              "      box-shadow: 0px 1px 3px 1px rgba(0, 0, 0, 0.15);\n",
              "      filter: drop-shadow(0px 1px 2px rgba(0, 0, 0, 0.3));\n",
              "      fill: #FFFFFF;\n",
              "    }\n",
              "  </style>\n",
              "\n",
              "    <script>\n",
              "      const buttonEl =\n",
              "        document.querySelector('#df-5760162e-9da4-4bab-99fb-31b4854bd041 button.colab-df-convert');\n",
              "      buttonEl.style.display =\n",
              "        google.colab.kernel.accessAllowed ? 'block' : 'none';\n",
              "\n",
              "      async function convertToInteractive(key) {\n",
              "        const element = document.querySelector('#df-5760162e-9da4-4bab-99fb-31b4854bd041');\n",
              "        const dataTable =\n",
              "          await google.colab.kernel.invokeFunction('convertToInteractive',\n",
              "                                                    [key], {});\n",
              "        if (!dataTable) return;\n",
              "\n",
              "        const docLinkHtml = 'Like what you see? Visit the ' +\n",
              "          '<a target=\"_blank\" href=https://colab.research.google.com/notebooks/data_table.ipynb>data table notebook</a>'\n",
              "          + ' to learn more about interactive tables.';\n",
              "        element.innerHTML = '';\n",
              "        dataTable['output_type'] = 'display_data';\n",
              "        await google.colab.output.renderOutput(dataTable, element);\n",
              "        const docLink = document.createElement('div');\n",
              "        docLink.innerHTML = docLinkHtml;\n",
              "        element.appendChild(docLink);\n",
              "      }\n",
              "    </script>\n",
              "  </div>\n",
              "\n",
              "\n",
              "    <div id=\"df-a347e26e-166f-49f8-92e3-631d01f6da30\">\n",
              "      <button class=\"colab-df-quickchart\" onclick=\"quickchart('df-a347e26e-166f-49f8-92e3-631d01f6da30')\"\n",
              "                title=\"Suggest charts\"\n",
              "                style=\"display:none;\">\n",
              "\n",
              "<svg xmlns=\"http://www.w3.org/2000/svg\" height=\"24px\"viewBox=\"0 0 24 24\"\n",
              "     width=\"24px\">\n",
              "    <g>\n",
              "        <path d=\"M19 3H5c-1.1 0-2 .9-2 2v14c0 1.1.9 2 2 2h14c1.1 0 2-.9 2-2V5c0-1.1-.9-2-2-2zM9 17H7v-7h2v7zm4 0h-2V7h2v10zm4 0h-2v-4h2v4z\"/>\n",
              "    </g>\n",
              "</svg>\n",
              "      </button>\n",
              "\n",
              "<style>\n",
              "  .colab-df-quickchart {\n",
              "      --bg-color: #E8F0FE;\n",
              "      --fill-color: #1967D2;\n",
              "      --hover-bg-color: #E2EBFA;\n",
              "      --hover-fill-color: #174EA6;\n",
              "      --disabled-fill-color: #AAA;\n",
              "      --disabled-bg-color: #DDD;\n",
              "  }\n",
              "\n",
              "  [theme=dark] .colab-df-quickchart {\n",
              "      --bg-color: #3B4455;\n",
              "      --fill-color: #D2E3FC;\n",
              "      --hover-bg-color: #434B5C;\n",
              "      --hover-fill-color: #FFFFFF;\n",
              "      --disabled-bg-color: #3B4455;\n",
              "      --disabled-fill-color: #666;\n",
              "  }\n",
              "\n",
              "  .colab-df-quickchart {\n",
              "    background-color: var(--bg-color);\n",
              "    border: none;\n",
              "    border-radius: 50%;\n",
              "    cursor: pointer;\n",
              "    display: none;\n",
              "    fill: var(--fill-color);\n",
              "    height: 32px;\n",
              "    padding: 0;\n",
              "    width: 32px;\n",
              "  }\n",
              "\n",
              "  .colab-df-quickchart:hover {\n",
              "    background-color: var(--hover-bg-color);\n",
              "    box-shadow: 0 1px 2px rgba(60, 64, 67, 0.3), 0 1px 3px 1px rgba(60, 64, 67, 0.15);\n",
              "    fill: var(--button-hover-fill-color);\n",
              "  }\n",
              "\n",
              "  .colab-df-quickchart-complete:disabled,\n",
              "  .colab-df-quickchart-complete:disabled:hover {\n",
              "    background-color: var(--disabled-bg-color);\n",
              "    fill: var(--disabled-fill-color);\n",
              "    box-shadow: none;\n",
              "  }\n",
              "\n",
              "  .colab-df-spinner {\n",
              "    border: 2px solid var(--fill-color);\n",
              "    border-color: transparent;\n",
              "    border-bottom-color: var(--fill-color);\n",
              "    animation:\n",
              "      spin 1s steps(1) infinite;\n",
              "  }\n",
              "\n",
              "  @keyframes spin {\n",
              "    0% {\n",
              "      border-color: transparent;\n",
              "      border-bottom-color: var(--fill-color);\n",
              "      border-left-color: var(--fill-color);\n",
              "    }\n",
              "    20% {\n",
              "      border-color: transparent;\n",
              "      border-left-color: var(--fill-color);\n",
              "      border-top-color: var(--fill-color);\n",
              "    }\n",
              "    30% {\n",
              "      border-color: transparent;\n",
              "      border-left-color: var(--fill-color);\n",
              "      border-top-color: var(--fill-color);\n",
              "      border-right-color: var(--fill-color);\n",
              "    }\n",
              "    40% {\n",
              "      border-color: transparent;\n",
              "      border-right-color: var(--fill-color);\n",
              "      border-top-color: var(--fill-color);\n",
              "    }\n",
              "    60% {\n",
              "      border-color: transparent;\n",
              "      border-right-color: var(--fill-color);\n",
              "    }\n",
              "    80% {\n",
              "      border-color: transparent;\n",
              "      border-right-color: var(--fill-color);\n",
              "      border-bottom-color: var(--fill-color);\n",
              "    }\n",
              "    90% {\n",
              "      border-color: transparent;\n",
              "      border-bottom-color: var(--fill-color);\n",
              "    }\n",
              "  }\n",
              "</style>\n",
              "\n",
              "      <script>\n",
              "        async function quickchart(key) {\n",
              "          const quickchartButtonEl =\n",
              "            document.querySelector('#' + key + ' button');\n",
              "          quickchartButtonEl.disabled = true;  // To prevent multiple clicks.\n",
              "          quickchartButtonEl.classList.add('colab-df-spinner');\n",
              "          try {\n",
              "            const charts = await google.colab.kernel.invokeFunction(\n",
              "                'suggestCharts', [key], {});\n",
              "          } catch (error) {\n",
              "            console.error('Error during call to suggestCharts:', error);\n",
              "          }\n",
              "          quickchartButtonEl.classList.remove('colab-df-spinner');\n",
              "          quickchartButtonEl.classList.add('colab-df-quickchart-complete');\n",
              "        }\n",
              "        (() => {\n",
              "          let quickchartButtonEl =\n",
              "            document.querySelector('#df-a347e26e-166f-49f8-92e3-631d01f6da30 button');\n",
              "          quickchartButtonEl.style.display =\n",
              "            google.colab.kernel.accessAllowed ? 'block' : 'none';\n",
              "        })();\n",
              "      </script>\n",
              "    </div>\n",
              "\n",
              "  <div id=\"id_04bb9829-38f6-4fc4-93e9-786d60fbbc7a\">\n",
              "    <style>\n",
              "      .colab-df-generate {\n",
              "        background-color: #E8F0FE;\n",
              "        border: none;\n",
              "        border-radius: 50%;\n",
              "        cursor: pointer;\n",
              "        display: none;\n",
              "        fill: #1967D2;\n",
              "        height: 32px;\n",
              "        padding: 0 0 0 0;\n",
              "        width: 32px;\n",
              "      }\n",
              "\n",
              "      .colab-df-generate:hover {\n",
              "        background-color: #E2EBFA;\n",
              "        box-shadow: 0px 1px 2px rgba(60, 64, 67, 0.3), 0px 1px 3px 1px rgba(60, 64, 67, 0.15);\n",
              "        fill: #174EA6;\n",
              "      }\n",
              "\n",
              "      [theme=dark] .colab-df-generate {\n",
              "        background-color: #3B4455;\n",
              "        fill: #D2E3FC;\n",
              "      }\n",
              "\n",
              "      [theme=dark] .colab-df-generate:hover {\n",
              "        background-color: #434B5C;\n",
              "        box-shadow: 0px 1px 3px 1px rgba(0, 0, 0, 0.15);\n",
              "        filter: drop-shadow(0px 1px 2px rgba(0, 0, 0, 0.3));\n",
              "        fill: #FFFFFF;\n",
              "      }\n",
              "    </style>\n",
              "    <button class=\"colab-df-generate\" onclick=\"generateWithVariable('df_hist')\"\n",
              "            title=\"Generate code using this dataframe.\"\n",
              "            style=\"display:none;\">\n",
              "\n",
              "  <svg xmlns=\"http://www.w3.org/2000/svg\" height=\"24px\"viewBox=\"0 0 24 24\"\n",
              "       width=\"24px\">\n",
              "    <path d=\"M7,19H8.4L18.45,9,17,7.55,7,17.6ZM5,21V16.75L18.45,3.32a2,2,0,0,1,2.83,0l1.4,1.43a1.91,1.91,0,0,1,.58,1.4,1.91,1.91,0,0,1-.58,1.4L9.25,21ZM18.45,9,17,7.55Zm-12,3A5.31,5.31,0,0,0,4.9,8.1,5.31,5.31,0,0,0,1,6.5,5.31,5.31,0,0,0,4.9,4.9,5.31,5.31,0,0,0,6.5,1,5.31,5.31,0,0,0,8.1,4.9,5.31,5.31,0,0,0,12,6.5,5.46,5.46,0,0,0,6.5,12Z\"/>\n",
              "  </svg>\n",
              "    </button>\n",
              "    <script>\n",
              "      (() => {\n",
              "      const buttonEl =\n",
              "        document.querySelector('#id_04bb9829-38f6-4fc4-93e9-786d60fbbc7a button.colab-df-generate');\n",
              "      buttonEl.style.display =\n",
              "        google.colab.kernel.accessAllowed ? 'block' : 'none';\n",
              "\n",
              "      buttonEl.onclick = () => {\n",
              "        google.colab.notebook.generateWithVariable('df_hist');\n",
              "      }\n",
              "      })();\n",
              "    </script>\n",
              "  </div>\n",
              "\n",
              "    </div>\n",
              "  </div>\n"
            ],
            "application/vnd.google.colaboratory.intrinsic+json": {
              "type": "dataframe",
              "variable_name": "df_hist",
              "summary": "{\n  \"name\": \"df_hist\",\n  \"rows\": 8,\n  \"fields\": [\n    {\n      \"column\": \"x\",\n      \"properties\": {\n        \"dtype\": \"number\",\n        \"std\": 0.04379832116972579,\n        \"min\": 0.877965760274298,\n        \"max\": 1.0,\n        \"num_unique_values\": 7,\n        \"samples\": [\n          1.0,\n          0.9291666666666667,\n          0.877965760274447\n        ],\n        \"semantic_type\": \"\",\n        \"description\": \"\"\n      }\n    },\n    {\n      \"column\": \"y\",\n      \"properties\": {\n        \"dtype\": \"number\",\n        \"std\": 0.11440056061320654,\n        \"min\": 0.6767569705178287,\n        \"max\": 1.0,\n        \"num_unique_values\": 7,\n        \"samples\": [\n          1.0,\n          0.7875,\n          0.676756970518031\n        ],\n        \"semantic_type\": \"\",\n        \"description\": \"\"\n      }\n    },\n    {\n      \"column\": \"z\",\n      \"properties\": {\n        \"dtype\": \"number\",\n        \"std\": 0.11523015175045354,\n        \"min\": 1.0,\n        \"max\": 1.3308554116212266,\n        \"num_unique_values\": 7,\n        \"samples\": [\n          1.0,\n          1.2833333333333332,\n          1.3308554116211022\n        ],\n        \"semantic_type\": \"\",\n        \"description\": \"\"\n      }\n    }\n  ]\n}"
            }
          },
          "metadata": {},
          "execution_count": 53
        }
      ]
    }
  ]
}